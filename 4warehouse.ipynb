{
  "nbformat": 4,
  "nbformat_minor": 0,
  "metadata": {
    "colab": {
      "name": "4warehouse.ipynb",
      "version": "0.3.2",
      "provenance": [],
      "collapsed_sections": []
    },
    "kernelspec": {
      "name": "python3",
      "display_name": "Python 3"
    },
    "accelerator": "GPU"
  },
  "cells": [
    {
      "cell_type": "markdown",
      "metadata": {
        "id": "aRG6hrGKRelZ",
        "colab_type": "text"
      },
      "source": [
        "# Reinforcement Learning\n",
        "\n",
        "2 x 2 warehouse \n",
        "\n",
        "6 orders\n",
        "\n",
        "3 objects\n",
        "\n",
        "= 4^4 * 6 = 1536 states\n",
        "\n",
        "\n",
        "6 actions (one for every cell)\n"
      ]
    },
    {
      "cell_type": "markdown",
      "metadata": {
        "id": "rY7DtNgjRelb",
        "colab_type": "text"
      },
      "source": [
        "# To-Do:\n",
        "\n",
        "1. Define states DONE\n",
        "2. Define actions DONE\n",
        "3. Define TransP matrix DONE\n",
        "4. Define Rewards DONE\n",
        "5. Run MDP DONE\n",
        "6. Construct greedy policy DONE\n",
        "7. Evaluate DONE"
      ]
    },
    {
      "cell_type": "markdown",
      "metadata": {
        "id": "zKWQDb4YReld",
        "colab_type": "text"
      },
      "source": [
        "# States:\n",
        "\n",
        "State := (x1,x2,x3,x4,o)\n",
        "\n",
        "xi is element of {white,red,blue,empty}, describing content of cell\n",
        "\n",
        "o is element of {store white, store red, store blue, restore white, restore red, restore blue}, describing current order"
      ]
    },
    {
      "cell_type": "markdown",
      "metadata": {
        "id": "7yVKWSsvRelf",
        "colab_type": "text"
      },
      "source": [
        "# Actions:\n",
        "\n",
        "actions := {1,2,3,4}, one for every cell\n",
        "\n",
        "The action describes the cell that will be accessed during a store/restore order"
      ]
    },
    {
      "cell_type": "code",
      "metadata": {
        "id": "2m7efYXURelg",
        "colab_type": "code",
        "outputId": "2d933703-2ea8-41ec-92d7-9034060320c3",
        "colab": {
          "base_uri": "https://localhost:8080/",
          "height": 68
        }
      },
      "source": [
        "!pip install pymdptoolbox\n",
        "import numpy as np\n",
        "import itertools as it\n",
        "import mdptoolbox\n",
        "from scipy.sparse import csr_matrix\n",
        "import datetime"
      ],
      "execution_count": 0,
      "outputs": [
        {
          "output_type": "stream",
          "text": [
            "Requirement already satisfied: pymdptoolbox in /usr/local/lib/python3.6/dist-packages (4.0b3)\n",
            "Requirement already satisfied: numpy in /usr/local/lib/python3.6/dist-packages (from pymdptoolbox) (1.16.4)\n",
            "Requirement already satisfied: scipy in /usr/local/lib/python3.6/dist-packages (from pymdptoolbox) (1.3.0)\n"
          ],
          "name": "stdout"
        }
      ]
    },
    {
      "cell_type": "code",
      "metadata": {
        "id": "CiXz_1bHW_vz",
        "colab_type": "code",
        "outputId": "ab661e78-4bb5-48ac-9519-928482de2172",
        "colab": {
          "resources": {
            "http://localhost:8080/nbextensions/google.colab/files.js": {
              "data": "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",
              "ok": true,
              "headers": [
                [
                  "content-type",
                  "application/javascript"
                ]
              ],
              "status": 200,
              "status_text": ""
            }
          },
          "base_uri": "https://localhost:8080/",
          "height": 74
        }
      },
      "source": [
        "from google.colab import files\n",
        "uploaded = files.upload()"
      ],
      "execution_count": 0,
      "outputs": [
        {
          "output_type": "display_data",
          "data": {
            "text/html": [
              "\n",
              "     <input type=\"file\" id=\"files-6f5bce1d-70d8-4ae4-b64f-9f8c6c595ea3\" name=\"files[]\" multiple disabled />\n",
              "     <output id=\"result-6f5bce1d-70d8-4ae4-b64f-9f8c6c595ea3\">\n",
              "      Upload widget is only available when the cell has been executed in the\n",
              "      current browser session. Please rerun this cell to enable.\n",
              "      </output>\n",
              "      <script src=\"/nbextensions/google.colab/files.js\"></script> "
            ],
            "text/plain": [
              "<IPython.core.display.HTML object>"
            ]
          },
          "metadata": {
            "tags": []
          }
        },
        {
          "output_type": "stream",
          "text": [
            "Saving SAKI Exercise 3 warehouseorder2x2.txt to SAKI Exercise 3 warehouseorder2x2.txt\n"
          ],
          "name": "stdout"
        }
      ]
    },
    {
      "cell_type": "code",
      "metadata": {
        "id": "ebgI8CMWRell",
        "colab_type": "code",
        "colab": {}
      },
      "source": [
        "warehouseSize = 4\n",
        "cellStates = [\"w\",\"r\",\"b\",\"e\"] # white, red, blue and empty\n",
        "orders = [\"sw\", \"sr\", \"sb\", \"rw\", \"rr\", \"rb\"]\n",
        "states = list(it.product(cellStates, cellStates, cellStates, cellStates, orders))\n",
        "\n",
        "statesDict = {x:i for i,x in enumerate(states)}\n",
        "\n",
        "negRewards = {\n",
        "    5:-4,\n",
        "    4:-3,\n",
        "    3:-3,\n",
        "    2:-2,\n",
        "    1:-2,\n",
        "    0:-1,\n",
        "    \"error\": -100\n",
        "}\n",
        "\n",
        "posRewards = {\n",
        "    5:2,\n",
        "    4:4,\n",
        "    3:4,\n",
        "    2:6,\n",
        "    1:6,\n",
        "    0:8,\n",
        "    \"error\": -100\n",
        "}\n",
        "\n",
        "rewards = posRewards"
      ],
      "execution_count": 0,
      "outputs": []
    },
    {
      "cell_type": "code",
      "metadata": {
        "id": "9o2SIMKPRelq",
        "colab_type": "code",
        "colab": {}
      },
      "source": [
        "def getOptions(state, action):\n",
        "    #take state and action (index of cell targeted)\n",
        "    #return list of indices for states-list, that represent all the viable follow-up states\n",
        "    viable = list()\n",
        "    valid = bool()\n",
        "    \n",
        "    order = str()\n",
        "    if state[-1][0] == \"s\":\n",
        "        order = \"store\"\n",
        "        valid = state[action] == \"e\"\n",
        "    else:\n",
        "        order = \"restore\"\n",
        "        valid = state[action] == state[-1][-1]\n",
        "    \n",
        "    if valid:\n",
        "        if order == \"store\":\n",
        "          viable = [i for i,x in enumerate(states) if (x[action] == state[-1][-1]) and ([y for j,y in enumerate(x) if j!=action][:-1] == [y for j,y in enumerate(state) if j!=action][:-1])]\n",
        "        else:\n",
        "          viable = [i for i,x in enumerate(states) if (x[action] == \"e\") and ([y for j,y in enumerate(x) if j!=action][:-1] == [y for j,y in enumerate(state) if j!=action][:-1])]\n",
        "      \n",
        "    else:\n",
        "        viable = [i for i,x in enumerate(states) if (state[:-1] == x[:-1])]\n",
        "    \n",
        "    return viable, valid\n",
        "                      \n"
      ],
      "execution_count": 0,
      "outputs": []
    },
    {
      "cell_type": "code",
      "metadata": {
        "id": "x0vYPMyct2sH",
        "colab_type": "code",
        "colab": {}
      },
      "source": [
        "\n",
        "def convertStates(s):\n",
        "    #convert list of indices to corresponding states\n",
        "    conS = list()\n",
        "    for x in s:\n",
        "        conS.append(states[x])\n",
        "        \n",
        "    return conS"
      ],
      "execution_count": 0,
      "outputs": []
    },
    {
      "cell_type": "code",
      "metadata": {
        "id": "j6j-ZclqfhJh",
        "colab_type": "code",
        "colab": {}
      },
      "source": [
        "def testWarehouse(orderList, policy):\n",
        "  #test the performance of a policy on a list of orders\n",
        "  state = [\"e\",\"e\",\"e\",\"e\",\"\"]\n",
        "  \n",
        "  cost = 0\n",
        "  \n",
        "  for order in orderList:\n",
        "    state[-1] = order\n",
        "    cell = policy[statesDict[tuple(state)]]\n",
        "    \n",
        "    if state[-1][0] == \"s\":\n",
        "      state[cell] = state[-1][-1]\n",
        "    else:\n",
        "      state[cell] = \"e\"\n",
        "      \n",
        "    if cell == 0:\n",
        "      cost += 1\n",
        "    elif cell in [1,2]:\n",
        "      cost += 2\n",
        "    else:\n",
        "      cost += 3\n",
        "  return cost\n"
      ],
      "execution_count": 0,
      "outputs": []
    },
    {
      "cell_type": "code",
      "metadata": {
        "id": "Hkpm47v5yXEe",
        "colab_type": "code",
        "colab": {}
      },
      "source": [
        "def visState(state):\n",
        "  #visualize the structure of a state\n",
        "  if len(state) == 5:\n",
        "    print(state[-1])\n",
        "    print([state[2],state[3]])\n",
        "    print([state[0],state[1]])\n",
        "    print(\"\\n\")\n",
        "  else:\n",
        "    pass"
      ],
      "execution_count": 0,
      "outputs": []
    },
    {
      "cell_type": "code",
      "metadata": {
        "id": "mgxgxu-xXIq6",
        "colab_type": "code",
        "colab": {}
      },
      "source": [
        "def createGreedyPolicy():\n",
        "  pol = list()\n",
        "  \n",
        "  for state in states:\n",
        "    order = state[-1][0]\n",
        "    \n",
        "    if order == \"s\":\n",
        "      #state tries to store object\n",
        "      valid = False\n",
        "      for i in range(4):\n",
        "        if state[i] == \"e\":\n",
        "          #state i is empty\n",
        "          valid = True\n",
        "          pol.append(i)\n",
        "          break\n",
        "      if not valid:\n",
        "        #there is no empty cell to store an object\n",
        "        pol.append(3)\n",
        "        \n",
        "    else:\n",
        "      #state tries to restore object\n",
        "      valid = False\n",
        "      for i in range(4):\n",
        "        if state[i] == state[-1][-1]:\n",
        "          #cell i contains matching object\n",
        "          valid = True\n",
        "          pol.append(i)\n",
        "          break\n",
        "      if not valid:\n",
        "        #there is no matching object to restore\n",
        "        pol.append(3)\n",
        "  return pol\n"
      ],
      "execution_count": 0,
      "outputs": []
    },
    {
      "cell_type": "code",
      "metadata": {
        "id": "DRWC0RpHRel2",
        "colab_type": "code",
        "outputId": "f9359892-b62d-444c-c3c7-eaa2f9b24365",
        "colab": {
          "base_uri": "https://localhost:8080/",
          "height": 136
        }
      },
      "source": [
        "#create transition probability matrices\n",
        "\n",
        "print(datetime.datetime.now())\n",
        "\n",
        "trans_prob_all = []\n",
        "\n",
        "#probability for every next state, assuming an equal probability distribution\n",
        "prob = 1/6 \n",
        "#explicit calculation of the last probability to avoid floating-point errors\n",
        "problast = 1 - (1/6)*5\n",
        "\n",
        "#create on mat\n",
        "for i in range(warehouseSize):\n",
        "    trans_prob = np.zeros((1536, 1536))    \n",
        "    for x in range(len(trans_prob)):\n",
        "        opts, valid = getOptions(states[x], i)\n",
        "\n",
        "        if len(opts) != 6:\n",
        "          print(\"ERROR: Wrong amount of options: \", str(len(opts)))\n",
        "          \n",
        "        for j,k in enumerate(opts):\n",
        "            if j == (len(opts)-1):\n",
        "              trans_prob[x][k] = problast\n",
        "            else:\n",
        "              trans_prob[x][k] = prob\n",
        "\n",
        "\n",
        "    trans_prob_all.append(csr_matrix(trans_prob))\n",
        "    print(\"Done: \", str(i))\n",
        "\n",
        "\n",
        "print(\"Trans Matrices created!\")\n",
        "\n",
        "\n",
        "\n",
        "print(datetime.datetime.now())\n"
      ],
      "execution_count": 0,
      "outputs": [
        {
          "output_type": "stream",
          "text": [
            "2019-07-07 15:31:21.307830\n",
            "Done:  0\n",
            "Done:  1\n",
            "Done:  2\n",
            "Done:  3\n",
            "Trans Matrices created!\n",
            "2019-07-07 15:31:25.239556\n"
          ],
          "name": "stdout"
        }
      ]
    },
    {
      "cell_type": "code",
      "metadata": {
        "id": "1k_5DhXeRel8",
        "colab_type": "code",
        "outputId": "5afb369d-a771-4ca2-b395-bf3bcd4ed1b8",
        "colab": {
          "base_uri": "https://localhost:8080/",
          "height": 68
        }
      },
      "source": [
        "#create reward matrices\n",
        "\n",
        "print(datetime.datetime.now())\n",
        "reward_all = []\n",
        "for state in states:\n",
        "    reward = np.zeros(4, dtype=np.float16)\n",
        "    \n",
        "    order = str()\n",
        "    if state[-1][0] == \"s\":\n",
        "        order = \"store\"\n",
        "    else:\n",
        "        order = \"restore\"\n",
        "    \n",
        "    if order == \"store\":\n",
        "        for i,x in enumerate(reward):\n",
        "            if state[i]==\"e\":\n",
        "                reward[i] = rewards[i]\n",
        "            else:\n",
        "                reward[i] = rewards[\"error\"]\n",
        "    else:\n",
        "        for i,x in enumerate(reward):\n",
        "            if state[i] == state[-1][-1]:\n",
        "                reward[i] = rewards[i]\n",
        "            else:\n",
        "                reward[i] = rewards[\"error\"]\n",
        "    reward_all.append(reward)\n",
        "reward_all = np.array(reward_all)\n",
        "print(\"Done Rewards!\")\n",
        "print(datetime.datetime.now())"
      ],
      "execution_count": 0,
      "outputs": [
        {
          "output_type": "stream",
          "text": [
            "2019-07-07 15:31:25.258460\n",
            "Done Rewards!\n",
            "2019-07-07 15:31:25.269605\n"
          ],
          "name": "stdout"
        }
      ]
    },
    {
      "cell_type": "code",
      "metadata": {
        "id": "vG7-gBC5RemH",
        "colab_type": "code",
        "colab": {}
      },
      "source": [
        "# Definition of the mdp with discount factor, maximal iterations, the tranisition probability matrix and the reward matrix\n",
        "mdpresultPolicy = mdptoolbox.mdp.PolicyIteration(trans_prob_all, reward_all,0.999, max_iter=10000)\n",
        "mdpresultValue = mdptoolbox.mdp.ValueIteration(trans_prob_all, reward_all,0.999, max_iter=10000)"
      ],
      "execution_count": 0,
      "outputs": []
    },
    {
      "cell_type": "code",
      "metadata": {
        "id": "88XEZltqRemP",
        "colab_type": "code",
        "outputId": "981f430e-635a-478a-991b-b725b9142bcd",
        "colab": {
          "base_uri": "https://localhost:8080/",
          "height": 34
        }
      },
      "source": [
        "# Run the MDP\n",
        "mdpresultPolicy.run()\n",
        "mdpresultValue.run()\n",
        "\n",
        "print(\"MDP trained\")"
      ],
      "execution_count": 0,
      "outputs": [
        {
          "output_type": "stream",
          "text": [
            "MDP trained\n"
          ],
          "name": "stdout"
        }
      ]
    },
    {
      "cell_type": "code",
      "metadata": {
        "id": "7stUaBnhRemT",
        "colab_type": "code",
        "outputId": "276d4e85-6aae-4a5e-d9e9-5b2671beb02f",
        "colab": {
          "base_uri": "https://localhost:8080/",
          "height": 173
        }
      },
      "source": [
        "\"\"\"-------- HERE ARE THE SOLUTIONS ----------------\"\"\"\n",
        "\n",
        "print('PolicyIteration:')\n",
        "print(mdpresultPolicy.policy)\n",
        "print(mdpresultPolicy.V)\n",
        "print(mdpresultPolicy.iter)\n",
        "\n",
        "print('ValueIteration:')\n",
        "print(mdpresultValue.policy)\n",
        "print(mdpresultValue.V)\n",
        "print(mdpresultValue.iter)"
      ],
      "execution_count": 0,
      "outputs": [
        {
          "output_type": "stream",
          "text": [
            "PolicyIteration:\n",
            "(0, 0, 0, 0, 0, 0, 0, 0, 0, 0, 3, 0, 0, 0, 0, 0, 0, 3, 0, 3, 3, 0, 0, 0, 0, 0, 0, 0, 2, 0, 0, 0, 0, 0, 2, 0, 0, 0, 0, 0, 2, 3, 3, 3, 3, 0, 2, 0, 0, 0, 0, 0, 0, 2, 0, 0, 0, 0, 3, 2, 0, 0, 0, 0, 0, 2, 3, 3, 3, 0, 0, 2, 0, 2, 2, 0, 0, 0, 2, 2, 2, 0, 3, 0, 2, 2, 2, 0, 0, 3, 3, 2, 2, 0, 0, 0, 0, 0, 0, 0, 1, 0, 0, 0, 0, 0, 1, 0, 0, 0, 0, 0, 1, 3, 3, 3, 3, 0, 1, 0, 0, 0, 0, 0, 1, 0, 0, 0, 0, 0, 2, 0, 0, 0, 0, 0, 1, 3, 3, 3, 3, 0, 2, 0, 0, 0, 0, 0, 1, 2, 0, 0, 0, 0, 1, 2, 0, 0, 0, 0, 1, 2, 3, 3, 3, 0, 1, 2, 2, 2, 2, 0, 1, 0, 2, 2, 2, 0, 1, 0, 2, 2, 2, 0, 1, 3, 2, 2, 2, 0, 1, 0, 0, 0, 0, 0, 0, 1, 0, 0, 0, 0, 3, 1, 0, 0, 0, 0, 0, 1, 3, 3, 3, 0, 0, 1, 0, 0, 0, 0, 2, 1, 0, 0, 0, 0, 2, 1, 0, 0, 0, 0, 2, 1, 3, 3, 3, 0, 2, 1, 0, 0, 0, 0, 0, 1, 0, 0, 0, 0, 3, 2, 0, 0, 0, 0, 0, 1, 3, 3, 3, 0, 0, 1, 2, 2, 2, 0, 0, 1, 2, 2, 2, 0, 3, 1, 2, 2, 2, 0, 0, 1, 2, 2, 2, 0, 0, 1, 0, 1, 1, 0, 0, 0, 1, 1, 1, 0, 3, 0, 1, 1, 1, 0, 0, 3, 3, 1, 1, 0, 0, 0, 1, 1, 1, 0, 2, 0, 1, 1, 1, 0, 2, 0, 1, 1, 1, 0, 2, 3, 1, 1, 1, 0, 2, 0, 1, 1, 1, 0, 0, 2, 1, 1, 1, 0, 3, 2, 1, 1, 1, 0, 0, 2, 1, 1, 1, 0, 0, 2, 2, 1, 2, 0, 0, 0, 2, 1, 1, 0, 3, 0, 2, 2, 1, 0, 0, 3, 2, 1, 1, 0, 0, 0, 0, 0, 0, 1, 0, 0, 0, 0, 0, 1, 0, 0, 0, 0, 0, 2, 0, 3, 3, 3, 3, 1, 0, 0, 0, 0, 0, 1, 0, 0, 0, 0, 0, 1, 0, 0, 0, 0, 0, 1, 0, 3, 3, 3, 3, 1, 0, 0, 0, 0, 0, 1, 0, 2, 0, 0, 0, 1, 0, 2, 0, 0, 0, 1, 0, 2, 3, 3, 3, 1, 0, 2, 2, 2, 2, 1, 0, 0, 2, 2, 2, 1, 0, 0, 2, 2, 2, 1, 0, 3, 2, 2, 2, 1, 0, 0, 0, 0, 0, 2, 0, 0, 0, 0, 0, 2, 0, 0, 0, 0, 0, 2, 0, 3, 3, 3, 3, 2, 0, 0, 0, 0, 0, 3, 0, 0, 0, 0, 0, 0, 0, 0, 0, 0, 0, 0, 0, 3, 3, 0, 3, 0, 0, 0, 0, 0, 0, 3, 0, 2, 0, 0, 0, 0, 0, 2, 0, 0, 0, 0, 0, 2, 3, 3, 3, 0, 0, 2, 2, 2, 2, 3, 0, 0, 2, 0, 2, 0, 0, 0, 2, 2, 2, 0, 0, 3, 2, 3, 2, 0, 0, 0, 0, 0, 0, 2, 0, 1, 0, 0, 0, 2, 0, 1, 0, 0, 0, 2, 0, 1, 3, 3, 3, 2, 0, 1, 0, 0, 0, 3, 0, 1, 0, 0, 0, 0, 0, 1, 0, 0, 0, 0, 0, 1, 3, 3, 3, 0, 0, 1, 0, 0, 0, 3, 0, 1, 0, 0, 0, 0, 0, 1, 0, 0, 0, 0, 0, 2, 3, 3, 3, 0, 0, 1, 2, 2, 2, 3, 0, 1, 2, 2, 2, 0, 0, 1, 2, 2, 2, 0, 0, 1, 2, 2, 2, 0, 0, 1, 1, 1, 1, 2, 0, 0, 1, 1, 1, 2, 0, 0, 1, 1, 1, 2, 0, 3, 1, 1, 1, 2, 0, 0, 1, 1, 1, 3, 0, 0, 1, 0, 1, 0, 0, 0, 1, 1, 1, 0, 0, 3, 1, 3, 1, 0, 0, 0, 1, 1, 1, 3, 0, 2, 1, 1, 1, 0, 0, 2, 1, 1, 1, 0, 0, 2, 1, 1, 1, 0, 0, 2, 2, 1, 2, 3, 0, 0, 1, 2, 1, 0, 0, 0, 1, 1, 1, 0, 0, 3, 2, 1, 2, 0, 0, 0, 0, 0, 0, 1, 0, 0, 0, 0, 0, 1, 3, 0, 0, 0, 0, 1, 0, 0, 3, 3, 3, 1, 0, 0, 0, 0, 0, 1, 2, 0, 0, 0, 0, 1, 2, 0, 0, 0, 0, 1, 2, 0, 3, 3, 3, 1, 2, 0, 0, 0, 0, 1, 0, 0, 0, 0, 0, 1, 3, 0, 0, 0, 0, 1, 0, 0, 3, 3, 3, 1, 0, 0, 2, 2, 2, 1, 0, 0, 2, 2, 2, 1, 3, 0, 2, 2, 2, 1, 0, 0, 2, 2, 2, 1, 0, 0, 0, 0, 0, 2, 1, 0, 0, 0, 0, 2, 1, 0, 0, 0, 0, 2, 1, 0, 3, 3, 3, 2, 1, 0, 0, 0, 0, 3, 1, 0, 0, 0, 0, 0, 1, 0, 0, 0, 0, 0, 1, 0, 3, 3, 3, 0, 1, 0, 0, 0, 0, 3, 1, 0, 0, 0, 0, 0, 1, 0, 0, 0, 0, 0, 1, 0, 3, 3, 3, 0, 1, 0, 2, 2, 2, 3, 1, 0, 2, 2, 2, 0, 1, 0, 2, 2, 2, 0, 1, 0, 2, 2, 2, 0, 1, 0, 0, 0, 0, 2, 0, 0, 0, 0, 0, 2, 3, 0, 0, 0, 0, 2, 0, 0, 3, 3, 3, 2, 0, 0, 0, 0, 0, 3, 2, 0, 0, 0, 0, 0, 2, 0, 0, 0, 0, 0, 2, 0, 3, 3, 3, 0, 2, 0, 0, 0, 0, 3, 0, 0, 0, 0, 0, 0, 3, 0, 0, 0, 0, 0, 0, 0, 3, 3, 0, 0, 0, 0, 2, 2, 2, 3, 0, 0, 2, 2, 2, 0, 3, 0, 2, 2, 0, 0, 0, 0, 2, 2, 3, 0, 0, 0, 1, 1, 1, 2, 0, 0, 1, 1, 1, 2, 3, 0, 1, 1, 1, 2, 0, 0, 1, 1, 1, 2, 0, 0, 1, 1, 1, 3, 2, 0, 1, 1, 1, 0, 2, 0, 1, 1, 1, 0, 2, 0, 1, 1, 1, 0, 2, 0, 1, 1, 1, 3, 0, 0, 1, 1, 1, 0, 3, 0, 1, 1, 0, 0, 0, 0, 1, 1, 3, 0, 0, 0, 1, 1, 2, 3, 0, 0, 2, 1, 1, 0, 3, 0, 1, 1, 1, 0, 0, 0, 1, 1, 1, 0, 0, 0, 1, 0, 0, 1, 0, 0, 0, 0, 0, 1, 3, 0, 0, 0, 0, 1, 0, 3, 0, 0, 0, 1, 0, 0, 0, 0, 0, 1, 2, 0, 0, 0, 0, 1, 2, 0, 0, 0, 0, 1, 2, 3, 0, 0, 0, 1, 2, 0, 0, 0, 0, 1, 0, 2, 0, 0, 0, 1, 3, 2, 0, 0, 0, 1, 0, 2, 0, 0, 0, 1, 0, 2, 0, 0, 0, 1, 0, 0, 0, 0, 0, 1, 3, 0, 0, 0, 0, 1, 0, 3, 0, 0, 0, 1, 0, 0, 0, 0, 0, 2, 1, 0, 0, 0, 0, 2, 1, 0, 0, 0, 0, 2, 1, 3, 0, 0, 0, 2, 1, 0, 0, 0, 0, 3, 1, 0, 0, 1, 0, 0, 1, 0, 0, 0, 0, 0, 2, 3, 0, 0, 0, 0, 2, 0, 0, 0, 0, 3, 1, 2, 0, 0, 0, 0, 1, 2, 0, 0, 0, 0, 1, 2, 0, 0, 0, 0, 1, 2, 0, 0, 0, 3, 1, 0, 0, 0, 0, 0, 1, 0, 0, 0, 0, 0, 1, 3, 0, 0, 0, 0, 1, 0, 0, 0, 0, 2, 0, 1, 0, 0, 0, 2, 3, 1, 0, 0, 0, 2, 0, 1, 0, 0, 0, 2, 0, 1, 0, 0, 0, 3, 2, 1, 0, 0, 0, 0, 2, 1, 0, 0, 0, 0, 2, 1, 0, 0, 0, 0, 2, 1, 0, 0, 0, 3, 0, 1, 0, 0, 0, 0, 3, 2, 0, 0, 1, 0, 0, 2, 0, 0, 0, 0, 0, 1, 0, 0, 0, 3, 0, 1, 0, 0, 0, 0, 3, 1, 0, 0, 0, 0, 0, 1, 0, 0, 0, 0, 0, 1, 0, 0, 0, 2, 0, 0, 0, 0, 0, 2, 3, 0, 0, 0, 0, 2, 0, 3, 0, 0, 0, 2, 0, 0, 0, 0, 0, 3, 2, 0, 0, 0, 0, 0, 2, 0, 0, 0, 0, 0, 2, 3, 0, 0, 0, 0, 2, 0, 0, 0, 0, 3, 0, 2, 0, 0, 0, 0, 3, 2, 0, 0, 0, 0, 0, 2, 0, 0, 0, 0, 0, 2, 0, 0, 0, 3, 0, 0, 0, 0, 0, 0, 3, 0, 0, 0, 0, 0, 0, 3, 0, 0, 0, 0, 0, 0)\n",
            "(-622.5958787636648, -622.5958787636648, -622.5958787636648, -370.99313127277435, -622.5958787636648, -622.5958787636648, -503.27661213116465, -503.2766121311646, -503.2766121311646, -297.38103954242763, -378.0232594740114, -503.27661213116454, -503.27661213116465, -503.2766121311646, -503.2766121311646, -297.38103954242763, -503.27661213116454, -378.0232594740114, -482.0232594740114, -399.2766121311646, -399.27661213116454, -302.19872714237937, -482.02325947401147, -482.0232594740114, -501.12791676960614, -501.12791676960614, -501.1279167696062, -296.22355752347227, -373.45088719547766, -501.12791676960614, -473.66052341174213, -473.6605234117422, -473.66052341174225, -296.2235575234721, -300.2045049078406, -473.66052341174225, -413.17983304049693, -413.17983304049693, -413.179833040497, -245.59836410861186, -300.2045049078406, -302.5231854653697, -397.12791676960614, -369.66052341174225, -309.1798330404968, -256.0906735004193, -304.90577091483055, -406.5231854653697, -501.12791676960614, -501.12791676960614, -501.1279167696062, -296.2235575234722, -501.12791676960614, -373.45088719547766, -413.17983304049693, -413.17983304049693, -413.179833040497, -245.59836410861186, -302.5231854653697, -300.2045049078406, -473.66052341174236, -473.66052341174236, -473.66052341174236, -296.22355752347227, -473.66052341174225, -300.20450490784066, -397.1279167696062, -309.1798330404969, -369.6605234117423, -256.09067350041926, -406.5231854653697, -304.90577091483055, -479.4508871954777, -395.1279167696062, -395.12791676960614, -301.06408617753925, -479.45088719547766, -479.45088719547766, -397.2766121311646, -367.66052341174225, -307.17983304049693, -256.13612164619605, -306.90577091483055, -406.2045049078405, -397.2766121311646, -307.1798330404969, -367.66052341174225, -256.136121646196, -406.20450490784077, -306.90577091483055, -375.4508871954778, -300.5231854653698, -300.52318546536975, -274.3963394763251, -410.90577091483067, -410.9057709148306, -501.12791676960614, -501.12791676960614, -501.1279167696062, -296.2235575234722, -373.45088719547766, -501.12791676960614, -473.6605234117423, -473.66052341174225, -473.6605234117423, -296.2235575234722, -300.2045049078406, -473.66052341174225, -413.17983304049693, -413.17983304049693, -413.17983304049693, -245.5983641086118, -300.20450490784066, -302.5231854653697, -397.12791676960614, -369.6605234117423, -309.1798330404969, -256.0906735004193, -304.90577091483055, -406.5231854653697, -473.6722563301089, -473.67225633010884, -473.6722563301089, -297.38103954242774, -299.07831067119605, -473.67225633010884, -501.2886975779835, -501.2886975779836, -501.2886975779836, -370.99313127277435, -299.1100622685152, -501.2886975779835, -413.20884015724135, -413.2088401572413, -413.20884015724135, -297.38103954242763, -248.4641438437406, -302.5872305237168, -369.67225633010884, -397.28869757798356, -309.20884015724135, -302.1987271423793, -258.95911842668227, -406.58723052371687, -411.93317785027375, -411.93317785027375, -411.93317785027375, -245.5983641086118, -299.07831067119605, -299.0783106711961, -411.9448446279258, -411.9448446279258, -411.9448446279259, -296.22355752347227, -248.46414384374066, -299.1100622685152, -411.9448446279258, -411.9448446279258, -411.9448446279259, -296.2235575234723, -299.1100622685152, -248.4641438437406, -307.9331778502738, -307.9448446279258, -307.9448446279258, -256.09067350041926, -258.95911842668227, -258.95911842668227, -395.12791676960614, -367.67225633010884, -305.9331778502738, -256.1361216461961, -303.90762120725964, -405.07831067119616, -367.6605234117423, -395.2886975779836, -305.9448446279257, -301.0640861775392, -258.9988677263952, -405.1100622685152, -307.17983304049693, -307.20884015724135, -305.94484462792576, -256.136121646196, -258.99886772639513, -260.95911842668227, -300.52318546536975, -300.58723052371687, -248.6747666189863, -274.39633947632524, -277.25348233346807, -364.9591184266822, -501.12791676960614, -501.12791676960614, -501.1279167696062, -296.2235575234722, -501.12791676960614, -373.45088719547766, -413.17983304049693, -413.17983304049693, -413.179833040497, -245.59836410861183, -302.52318546536975, -300.2045049078406, -473.6605234117424, -473.66052341174236, -473.66052341174236, -296.22355752347227, -473.6605234117424, -300.20450490784066, -397.12791676960614, -309.1798330404969, -369.66052341174236, -256.0906735004193, -406.5231854653698, -304.90577091483055, -411.9331778502738, -411.9331778502738, -411.9331778502738, -245.59836410861186, -299.0783106711961, -299.07831067119605, -411.9448446279258, -411.9448446279258, -411.9448446279258, -296.2235575234723, -248.4641438437406, -299.11006226851515, -411.9448446279258, -411.9448446279258, -411.9448446279259, -296.22355752347227, -299.11006226851515, -248.4641438437406, -307.93317785027375, -307.94484462792576, -307.9448446279258, -256.09067350041937, -258.95911842668227, -258.9591184266822, -473.6722563301089, -473.67225633010884, -473.6722563301089, -297.38103954242763, -473.67225633010884, -299.07831067119605, -413.20884015724135, -413.2088401572413, -413.20884015724135, -297.38103954242763, -302.5872305237168, -248.4641438437406, -501.2886975779836, -501.2886975779836, -501.2886975779836, -370.99313127277446, -501.28869757798356, -299.1100622685152, -369.6722563301089, -309.2088401572413, -397.2886975779836, -302.1987271423793, -406.5872305237168, -258.95911842668227, -395.1279167696062, -305.93317785027386, -367.6722563301089, -256.136121646196, -405.0783106711961, -303.90762120725964, -307.1798330404969, -305.9448446279258, -307.2088401572412, -256.13612164619605, -260.95911842668227, -258.9988677263952, -367.6605234117423, -305.94484462792576, -395.2886975779836, -301.0640861775393, -405.1100622685151, -258.99886772639513, -300.52318546536986, -248.6747666189863, -300.58723052371676, -274.3963394763251, -364.9591184266823, -277.25348233346807, -479.4508871954777, -395.1279167696062, -395.12791676960626, -301.06408617753925, -479.45088719547766, -479.45088719547766, -397.2766121311646, -367.6605234117422, -307.179833040497, -256.13612164619605, -306.90577091483055, -406.20450490784054, -397.2766121311646, -307.17983304049693, -367.66052341174236, -256.136121646196, -406.2045049078407, -306.90577091483055, -375.4508871954778, -300.52318546536975, -300.52318546536986, -274.3963394763251, -410.9057709148306, -410.9057709148306, -395.12791676960614, -367.67225633010884, -305.93317785027375, -256.136121646196, -303.90762120725964, -405.07831067119594, -367.66052341174225, -395.28869757798356, -305.94484462792576, -301.06408617753925, -258.9988677263952, -405.11006226851515, -307.179833040497, -307.2088401572414, -305.9448446279259, -256.136121646196, -258.99886772639513, -260.9591184266822, -300.5231854653697, -300.5872305237167, -248.67476661898633, -274.39633947632507, -277.25348233346807, -364.95911842668227, -395.12791676960614, -305.9331778502738, -367.6722563301087, -256.136121646196, -405.0783106711961, -303.9076212072597, -307.179833040497, -305.94484462792593, -307.20884015724124, -256.1361216461961, -260.95911842668227, -258.9988677263952, -367.6605234117423, -305.9448446279259, -395.2886975779836, -301.0640861775393, -405.1100622685151, -258.99886772639513, -300.5231854653697, -248.67476661898635, -300.5872305237168, -274.3963394763251, -364.95911842668255, -277.25348233346807, -373.4508871954778, -299.0783106711961, -299.0783106711961, -274.6280570960084, -409.9076212072596, -409.90762120725987, -300.20450490784054, -299.11006226851515, -248.46414384374063, -274.62805709600843, -279.253482333468, -364.99886772639513, -300.20450490784066, -248.46414384374054, -299.11006226851504, -274.6280570960083, -364.9988677263951, -279.253482333468, -304.9057709148305, -258.95911842668227, -258.9591184266822, -299.0255764546557, -383.2534823334681, -383.2534823334682, -501.2886975779835, -501.2886975779836, -501.28869757798356, -299.1100622685152, -370.99313127277435, -501.28869757798356, -473.6722563301089, -473.67225633010884, -473.6722563301089, -299.07831067119605, -297.38103954242763, -473.6722563301088, -413.20884015724135, -413.2088401572413, -413.20884015724135, -248.4641438437406, -297.38103954242763, -302.58723052371687, -397.28869757798356, -369.67225633010884, -309.20884015724135, -258.95911842668227, -302.19872714237937, -406.5872305237168, -473.6605234117423, -473.66052341174225, -473.6605234117423, -300.2045049078406, -296.22355752347227, -473.6605234117423, -501.1279167696061, -501.12791676960614, -501.12791676960614, -373.45088719547766, -296.2235575234721, -501.12791676960614, -413.17983304049693, -413.17983304049693, -413.179833040497, -300.2045049078406, -245.59836410861186, -302.5231854653697, -369.6605234117423, -397.12791676960614, -309.1798330404968, -304.90577091483044, -256.0906735004193, -406.5231854653698, -411.9448446279258, -411.9448446279258, -411.9448446279258, -248.4641438437406, -296.2235575234722, -299.11006226851515, -411.93317785027375, -411.9331778502738, -411.9331778502738, -299.07831067119605, -245.59836410861186, -299.07831067119605, -411.9448446279258, -411.9448446279258, -411.9448446279258, -299.1100622685152, -296.22355752347227, -248.4641438437406, -307.94484462792576, -307.9331778502738, -307.9448446279258, -258.95911842668227, -256.09067350041926, -258.95911842668227, -395.28869757798356, -367.6605234117423, -305.94484462792576, -258.99886772639513, -301.06408617753925, -405.1100622685152, -367.67225633010884, -395.12791676960614, -305.9331778502738, -303.9076212072597, -256.13612164619605, -405.07831067119616, -307.2088401572414, -307.17983304049693, -305.94484462792576, -258.99886772639513, -256.136121646196, -260.9591184266822, -300.5872305237167, -300.5231854653698, -248.6747666189863, -277.253482333468, -274.3963394763251, -364.95911842668227, -473.6605234117423, -473.66052341174225, -473.66052341174236, -300.20450490784066, -296.2235575234722, -473.6605234117423, -501.1279167696061, -501.12791676960626, -501.1279167696062, -373.45088719547766, -296.2235575234722, -501.12791676960614, -413.17983304049693, -413.17983304049693, -413.17983304049693, -300.2045049078406, -245.5983641086118, -302.52318546536975, -369.66052341174225, -397.1279167696062, -309.1798330404968, -304.9057709148305, -256.0906735004193, -406.5231854653698, -503.27661213116465, -503.27661213116465, -503.2766121311646, -378.0232594740114, -297.38103954242774, -503.27661213116454, -622.5958787636646, -622.5958787636646, -622.5958787636647, -622.5958787636646, -370.99313127277435, -622.5958787636647, -503.27661213116465, -503.2766121311646, -503.2766121311646, -503.27661213116454, -297.38103954242763, -378.0232594740114, -399.2766121311646, -482.02325947401135, -399.27661213116465, -482.02325947401147, -302.1987271423793, -482.0232594740114, -413.17983304049693, -413.17983304049693, -413.179833040497, -302.52318546536975, -245.5983641086118, -300.20450490784066, -501.12791676960614, -501.12791676960614, -501.1279167696062, -501.12791676960614, -296.22355752347227, -373.4508871954777, -473.6605234117423, -473.66052341174225, -473.66052341174236, -473.6605234117423, -296.2235575234723, -300.2045049078406, -309.1798330404969, -397.12791676960614, -369.66052341174236, -406.5231854653698, -256.09067350041926, -304.9057709148305, -367.66052341174225, -397.27661213116465, -307.179833040497, -306.9057709148305, -256.1361216461961, -406.2045049078405, -395.12791676960614, -479.45088719547766, -395.12791676960614, -479.4508871954778, -301.0640861775392, -479.45088719547766, -307.1798330404969, -397.2766121311647, -367.6605234117423, -406.20450490784066, -256.136121646196, -306.9057709148305, -300.5231854653697, -375.4508871954777, -300.5231854653697, -410.9057709148306, -274.39633947632524, -410.90577091483055, -411.9448446279258, -411.9448446279258, -411.9448446279259, -248.4641438437406, -296.2235575234722, -299.1100622685152, -411.9331778502738, -411.9331778502738, -411.9331778502738, -299.0783106711961, -245.59836410861183, -299.07831067119605, -411.9448446279258, -411.9448446279258, -411.9448446279258, -299.1100622685152, -296.22355752347227, -248.4641438437406, -307.94484462792576, -307.93317785027375, -307.9448446279258, -258.95911842668227, -256.0906735004193, -258.95911842668227, -413.17983304049693, -413.17983304049693, -413.179833040497, -302.52318546536975, -245.59836410861186, -300.2045049078406, -501.12791676960626, -501.12791676960626, -501.12791676960626, -501.12791676960626, -296.2235575234723, -373.45088719547766, -473.6605234117423, -473.66052341174225, -473.66052341174236, -473.66052341174225, -296.22355752347227, -300.2045049078406, -309.17983304049693, -397.12791676960626, -369.66052341174236, -406.5231854653698, -256.09067350041937, -304.90577091483044, -413.2088401572414, -413.2088401572414, -413.20884015724135, -302.5872305237168, -297.38103954242763, -248.4641438437406, -473.67225633010884, -473.67225633010884, -473.6722563301089, -473.67225633010884, -297.38103954242763, -299.07831067119605, -501.2886975779836, -501.2886975779836, -501.2886975779836, -501.28869757798356, -370.99313127277446, -299.1100622685152, -309.20884015724135, -369.6722563301089, -397.2886975779836, -406.58723052371687, -302.1987271423793, -258.95911842668227, -305.94484462792576, -307.179833040497, -307.20884015724135, -260.95911842668227, -256.136121646196, -258.99886772639513, -305.9331778502738, -395.12791676960626, -367.6722563301089, -405.07831067119616, -256.13612164619605, -303.9076212072597, -305.9448446279258, -367.66052341174236, -395.2886975779836, -405.1100622685152, -301.0640861775393, -258.99886772639513, -248.6747666189864, -300.52318546536975, -300.58723052371687, -364.95911842668227, -274.3963394763251, -277.253482333468, -395.2886975779836, -367.6605234117423, -305.94484462792576, -258.99886772639513, -301.06408617753925, -405.11006226851526, -367.6722563301087, -395.12791676960614, -305.9331778502738, -303.9076212072597, -256.13612164619605, -405.07831067119605, -307.2088401572413, -307.179833040497, -305.9448446279257, -258.99886772639513, -256.136121646196, -260.95911842668227, -300.5872305237169, -300.52318546536986, -248.67476661898635, -277.253482333468, -274.3963394763251, -364.9591184266824, -367.66052341174225, -397.27661213116465, -307.17983304049704, -306.90577091483044, -256.136121646196, -406.20450490784054, -395.12791676960614, -479.45088719547766, -395.12791676960614, -479.4508871954778, -301.06408617753925, -479.45088719547783, -307.17983304049693, -397.2766121311647, -367.6605234117423, -406.20450490784054, -256.136121646196, -306.9057709148305, -300.52318546536975, -375.45088719547766, -300.52318546536975, -410.90577091483055, -274.39633947632507, -410.9057709148304, -305.94484462792576, -307.179833040497, -307.2088401572414, -260.95911842668227, -256.136121646196, -258.99886772639513, -305.93317785027375, -395.1279167696062, -367.672256330109, -405.07831067119605, -256.1361216461961, -303.90762120725964, -305.9448446279258, -367.6605234117423, -395.2886975779837, -405.11006226851515, -301.0640861775393, -258.99886772639513, -248.67476661898647, -300.52318546536986, -300.587230523717, -364.9591184266822, -274.3963394763251, -277.253482333468, -299.11006226851515, -300.2045049078406, -248.46414384374052, -279.253482333468, -274.6280570960084, -364.9988677263952, -299.07831067119616, -373.45088719547766, -299.0783106711961, -409.90762120725964, -274.62805709600843, -409.9076212072598, -248.46414384374066, -300.2045049078406, -299.11006226851526, -364.998867726395, -274.6280570960083, -279.253482333468, -258.95911842668227, -304.90577091483055, -258.95911842668227, -383.253482333468, -299.0255764546557, -383.253482333468, -501.2886975779835, -501.2886975779835, -501.28869757798356, -299.11006226851515, -501.2886975779835, -370.99313127277435, -413.20884015724135, -413.2088401572413, -413.20884015724135, -248.4641438437406, -302.58723052371676, -297.38103954242763, -473.6722563301089, -473.67225633010884, -473.6722563301089, -299.07831067119605, -473.67225633010884, -297.38103954242763, -397.2886975779835, -309.2088401572413, -369.6722563301088, -258.9591184266822, -406.58723052371676, -302.19872714237937, -411.9448446279258, -411.9448446279258, -411.9448446279259, -248.46414384374066, -299.1100622685152, -296.22355752347227, -411.9448446279258, -411.94484462792576, -411.9448446279258, -299.11006226851515, -248.4641438437406, -296.2235575234721, -411.9331778502738, -411.9331778502738, -411.9331778502738, -299.07831067119605, -299.0783106711961, -245.59836410861186, -307.9448446279258, -307.94484462792576, -307.93317785027375, -258.95911842668227, -258.95911842668227, -256.0906735004193, -473.6605234117423, -473.66052341174225, -473.6605234117423, -300.2045049078406, -473.6605234117423, -296.2235575234722, -413.17983304049693, -413.17983304049693, -413.179833040497, -300.20450490784066, -302.5231854653697, -245.59836410861186, -501.12791676960626, -501.12791676960626, -501.12791676960626, -373.4508871954778, -501.12791676960614, -296.22355752347227, -369.6605234117423, -309.1798330404969, -397.12791676960626, -304.9057709148305, -406.5231854653698, -256.09067350041926, -395.2886975779835, -305.9448446279258, -367.6605234117423, -258.99886772639525, -405.11006226851515, -301.06408617753925, -307.2088401572413, -305.9448446279258, -307.17983304049693, -258.9988677263952, -260.9591184266822, -256.13612164619605, -367.6722563301088, -305.9331778502738, -395.12791676960626, -303.9076212072597, -405.0783106711961, -256.136121646196, -300.5872305237168, -248.67476661898635, -300.52318546536975, -277.253482333468, -364.95911842668227, -274.3963394763251, -411.9448446279258, -411.9448446279258, -411.9448446279258, -248.46414384374066, -299.11006226851515, -296.2235575234722, -411.9448446279258, -411.9448446279258, -411.9448446279258, -299.11006226851515, -248.4641438437406, -296.2235575234722, -411.9331778502738, -411.93317785027375, -411.9331778502738, -299.0783106711961, -299.07831067119605, -245.5983641086118, -307.9448446279258, -307.94484462792576, -307.93317785027375, -258.95911842668227, -258.9591184266822, -256.0906735004193, -413.2088401572414, -413.2088401572414, -413.20884015724135, -302.5872305237168, -248.46414384374066, -297.38103954242774, -501.2886975779836, -501.2886975779835, -501.2886975779836, -501.28869757798356, -299.11006226851515, -370.99313127277435, -473.67225633010884, -473.6722563301088, -473.6722563301089, -473.67225633010884, -299.07831067119605, -297.38103954242763, -309.20884015724135, -397.28869757798356, -369.6722563301089, -406.5872305237168, -258.95911842668227, -302.1987271423793, -413.17983304049693, -413.17983304049693, -413.179833040497, -302.5231854653698, -300.2045049078406, -245.5983641086118, -473.6605234117424, -473.66052341174236, -473.66052341174236, -473.6605234117424, -300.20450490784066, -296.22355752347227, -501.1279167696064, -501.12791676960626, -501.12791676960626, -501.12791676960626, -373.4508871954778, -296.2235575234723, -309.17983304049693, -369.66052341174236, -397.12791676960626, -406.5231854653698, -304.9057709148305, -256.09067350041926, -305.94484462792576, -307.2088401572414, -307.17983304049693, -260.95911842668227, -258.99886772639525, -256.1361216461961, -305.94484462792576, -395.28869757798356, -367.66052341174236, -405.1100622685151, -258.9988677263952, -301.0640861775392, -305.9331778502738, -367.6722563301089, -395.12791676960626, -405.0783106711961, -303.9076212072597, -256.136121646196, -248.67476661898638, -300.58723052371687, -300.52318546536975, -364.95911842668227, -277.253482333468, -274.39633947632524, -473.6605234117423, -473.66052341174225, -473.66052341174225, -300.2045049078406, -473.66052341174225, -296.2235575234722, -413.17983304049693, -413.17983304049693, -413.179833040497, -300.20450490784066, -302.52318546536975, -245.59836410861183, -501.12791676960626, -501.12791676960626, -501.12791676960626, -373.4508871954778, -501.12791676960614, -296.22355752347227, -369.6605234117423, -309.1798330404969, -397.12791676960614, -304.9057709148305, -406.5231854653698, -256.0906735004193, -413.17983304049693, -413.17983304049693, -413.179833040497, -302.5231854653698, -300.2045049078406, -245.59836410861186, -473.6605234117424, -473.66052341174236, -473.66052341174236, -473.6605234117424, -300.20450490784066, -296.2235575234723, -501.1279167696064, -501.12791676960626, -501.12791676960626, -501.12791676960626, -373.4508871954778, -296.22355752347227, -309.17983304049693, -369.66052341174236, -397.12791676960626, -406.52318546536986, -304.9057709148305, -256.09067350041937, -503.2766121311646, -503.27661213116465, -503.27661213116454, -378.02325947401135, -503.27661213116454, -297.38103954242763, -503.2766121311646, -503.2766121311646, -503.2766121311646, -503.27661213116454, -378.02325947401135, -297.38103954242763, -622.5958787636648, -622.5958787636647, -622.5958787636647, -622.5958787636647, -622.5958787636647, -370.99313127277446, -399.2766121311646, -399.27661213116465, -482.02325947401147, -482.0232594740114, -482.02325947401135, -302.1987271423793, -367.66052341174225, -307.179833040497, -397.2766121311646, -306.9057709148305, -406.2045049078405, -256.136121646196, -307.1798330404969, -367.66052341174236, -397.2766121311646, -406.20450490784066, -306.9057709148305, -256.13612164619605, -395.1279167696062, -395.1279167696063, -479.4508871954778, -479.4508871954778, -479.4508871954778, -301.0640861775393, -300.52318546536975, -300.52318546536975, -375.4508871954777, -410.90577091483055, -410.90577091483055, -274.3963394763251, -395.2886975779835, -305.9448446279257, -367.6605234117424, -258.99886772639525, -405.11006226851504, -301.06408617753925, -307.2088401572412, -305.9448446279258, -307.17983304049693, -258.9988677263952, -260.9591184266822, -256.13612164619605, -367.6722563301087, -305.9331778502738, -395.12791676960614, -303.9076212072597, -405.07831067119605, -256.136121646196, -300.5872305237168, -248.67476661898627, -300.5231854653697, -277.253482333468, -364.9591184266822, -274.3963394763251, -305.94484462792593, -307.20884015724135, -307.179833040497, -260.95911842668227, -258.99886772639525, -256.136121646196, -305.94484462792576, -395.28869757798344, -367.66052341174236, -405.1100622685152, -258.9988677263952, -301.06408617753925, -305.93317785027375, -367.672256330109, -395.12791676960626, -405.07831067119605, -303.90762120725964, -256.136121646196, -248.6747666189865, -300.587230523717, -300.52318546536975, -364.95911842668227, -277.253482333468, -274.39633947632507, -367.66052341174225, -307.179833040497, -397.2766121311646, -306.9057709148305, -406.20450490784054, -256.136121646196, -307.1798330404968, -367.66052341174236, -397.2766121311646, -406.20450490784066, -306.9057709148305, -256.1361216461961, -395.12791676960626, -395.12791676960626, -479.4508871954778, -479.4508871954778, -479.4508871954778, -301.0640861775393, -300.52318546536975, -300.52318546536975, -375.4508871954777, -410.9057709148305, -410.90577091483055, -274.3963394763251, -299.11006226851515, -248.46414384374057, -300.2045049078407, -279.253482333468, -364.99886772639536, -274.6280570960084, -248.46414384374063, -299.11006226851515, -300.20450490784066, -364.9988677263951, -279.253482333468, -274.62805709600843, -299.0783106711962, -299.0783106711961, -373.4508871954777, -409.9076212072597, -409.9076212072596, -274.6280570960083, -258.9591184266823, -258.9591184266823, -304.90577091483044, -383.25348233346807, -383.253482333468, -299.0255764546557, -478.9931312727743, -393.28869757798356, -393.2886975779834, -303.06408617753925, -478.99313127277384, -478.99313127277463, -395.2766121311646, -365.67225633010895, -305.20884015724135, -258.13612164619605, -306.19872714237937, -405.38103954242735, -395.2766121311646, -305.2088401572414, -365.6722563301088, -258.136121646196, -405.3810395424274, -306.19872714237937, -374.02325947401164, -298.58723052371687, -298.5872305237168, -276.3963394763251, -410.19872714237937, -410.1987271423794, -393.1279167696062, -365.66052341174196, -303.9448446279258, -258.136121646196, -303.06408617753925, -404.22355752347255, -365.66052341174213, -393.127916769606, -303.94484462792576, -303.06408617753925, -258.13612164619605, -404.2235575234718, -305.179833040497, -305.17983304049704, -303.9331778502738, -258.136121646196, -258.136121646196, -260.0906735004193, -298.52318546536964, -298.52318546536975, -246.67476661898652, -276.39633947632507, -276.3963394763251, -364.09067350041926, -393.1279167696061, -303.9448446279258, -365.6605234117423, -258.136121646196, -404.2235575234719, -303.06408617753925, -305.1798330404969, -303.9331778502738, -305.179833040497, -258.1361216461961, -260.09067350041926, -258.13612164619605, -365.66052341174213, -303.94484462792576, -393.1279167696064, -303.0640861775393, -404.2235575234722, -258.136121646196, -298.5231854653697, -246.67476661898635, -298.52318546536947, -276.3963394763251, -364.09067350041926, -276.3963394763251, -371.45088719547783, -297.1100622685154, -297.1100622685152, -276.6280570960084, -409.06408617753925, -409.0640861775392, -298.2045049078406, -297.07831067119605, -246.46414384374077, -276.62805709600843, -278.3963394763251, -364.1361216461961, -298.20450490784066, -246.4641438437407, -297.07831067119594, -276.6280570960083, -364.136121646196, -278.3963394763251, -302.9057709148305, -256.95911842668215, -256.9591184266822, -301.0255764546557, -382.3963394763252, -382.3963394763251, -393.12791676960614, -365.66052341174196, -303.9448446279258, -258.1361216461961, -303.06408617753925, -404.2235575234724, -365.6605234117423, -393.12791676960626, -303.94484462792553, -303.0640861775392, -258.13612164619605, -404.223557523472, -305.17983304049676, -305.179833040497, -303.9331778502738, -258.136121646196, -258.136121646196, -260.0906735004193, -298.5231854653698, -298.52318546536975, -246.67476661898638, -276.39633947632524, -276.3963394763251, -364.0906735004192, -365.672256330109, -395.2766121311646, -305.20884015724147, -306.1987271423793, -258.136121646196, -405.3810395424277, -393.2886975779835, -478.99313127277435, -393.2886975779836, -478.99313127277435, -303.06408617753925, -478.99313127277395, -305.2088401572413, -395.2766121311648, -365.67225633010867, -405.3810395424277, -258.13612164619605, -306.19872714237937, -298.5872305237168, -374.02325947401135, -298.5872305237171, -410.19872714237925, -276.3963394763252, -410.1987271423793, -303.93317785027375, -305.1798330404969, -305.1798330404968, -260.09067350041926, -258.136121646196, -258.1361216461961, -303.94484462792576, -393.1279167696061, -365.66052341174236, -404.2235575234723, -258.1361216461961, -303.0640861775392, -303.9448446279257, -365.6605234117423, -393.12791676960643, -404.22355752347244, -303.0640861775393, -258.13612164619605, -246.67476661898638, -298.5231854653698, -298.52318546536964, -364.09067350041914, -276.3963394763251, -276.3963394763252, -297.07831067119616, -298.20450490784077, -246.46414384374083, -278.3963394763252, -276.6280570960084, -364.1361216461959, -297.1100622685151, -371.4508871954776, -297.11006226851515, -409.06408617753914, -276.62805709600843, -409.06408617753925, -246.4641438437406, -298.20450490784077, -297.07831067119616, -364.13612164619593, -276.6280570960083, -278.39633947632524, -256.95911842668227, -302.9057709148306, -256.9591184266823, -382.3963394763251, -301.0255764546557, -382.3963394763253, -393.12791676960626, -303.9448446279256, -365.66052341174225, -258.136121646196, -404.22355752347227, -303.06408617753925, -305.17983304049704, -303.93317785027386, -305.17983304049676, -258.13612164619605, -260.0906735004193, -258.13612164619605, -365.66052341174225, -303.9448446279256, -393.1279167696064, -303.0640861775393, -404.22355752347244, -258.136121646196, -298.5231854653697, -246.67476661898647, -298.52318546536975, -276.3963394763251, -364.09067350041937, -276.3963394763251, -303.9331778502737, -305.17983304049693, -305.17983304049704, -260.09067350041937, -258.136121646196, -258.136121646196, -303.94484462792593, -393.1279167696056, -365.6605234117428, -404.22355752347244, -258.13612164619605, -303.06408617753925, -303.944844627926, -365.6605234117423, -393.12791676960603, -404.22355752347244, -303.0640861775393, -258.136121646196, -246.6747666189865, -298.52318546536986, -298.5231854653696, -364.0906735004196, -276.3963394763251, -276.39633947632507, -365.67225633010867, -305.2088401572414, -395.2766121311647, -306.1987271423793, -405.3810395424275, -258.136121646196, -305.20884015724147, -365.6722563301088, -395.27661213116454, -405.3810395424276, -306.1987271423793, -258.13612164619605, -393.28869757798367, -393.2886975779836, -478.9931312727744, -478.9931312727746, -478.99313127277435, -303.0640861775393, -298.5872305237168, -298.5872305237169, -374.02325947401147, -410.19872714237925, -410.1987271423795, -276.3963394763251, -297.07831067119605, -246.46414384374057, -298.2045049078406, -278.3963394763251, -364.1361216461962, -276.6280570960084, -246.4641438437407, -297.0783106711961, -298.20450490784066, -364.13612164619605, -278.3963394763251, -276.62805709600843, -297.1100622685152, -297.1100622685154, -371.4508871954779, -409.0640861775394, -409.0640861775393, -276.6280570960083, -256.9591184266822, -256.95911842668215, -302.90577091483044, -382.3963394763251, -382.39633947632524, -301.0255764546557, -371.45088719547766, -297.1100622685153, -297.1100622685152, -276.6280570960084, -409.06408617753937, -409.0640861775393, -298.2045049078406, -297.0783106711961, -246.46414384374063, -276.62805709600843, -278.3963394763251, -364.13612164619605, -298.20450490784054, -246.4641438437404, -297.078310671196, -276.6280570960083, -364.13612164619605, -278.3963394763251, -302.90577091483055, -256.9591184266823, -256.9591184266822, -301.0255764546557, -382.3963394763252, -382.396339476325, -297.0783106711961, -298.2045049078406, -246.46414384374066, -278.39633947632507, -276.6280570960084, -364.13612164619593, -297.11006226851526, -371.45088719547766, -297.1100622685154, -409.0640861775392, -276.6280570960084, -409.0640861775391, -246.46414384374074, -298.2045049078404, -297.07831067119605, -364.13612164619605, -276.6280570960084, -278.39633947632507, -256.95911842668204, -302.9057709148306, -256.9591184266821, -382.39633947632495, -301.0255764546557, -382.39633947632507, -297.0783106711961, -246.4641438437405, -298.2045049078406, -278.39633947632507, -364.136121646196, -276.6280570960084, -246.46414384374063, -297.0783106711962, -298.2045049078409, -364.13612164619605, -278.39633947632507, -276.6280570960084, -297.1100622685153, -297.1100622685153, -371.45088719547783, -409.0640861775393, -409.06408617753914, -276.6280570960084, -256.9591184266823, -256.9591184266822, -302.90577091483016, -382.3963394763251, -382.3963394763252, -301.0255764546557, -301.9076212072597, -256.99886772639513, -256.9988677263953, -303.0255764546557, -382.62805709600843, -382.6280570960084, -256.99886772639536, -301.90762120725964, -256.99886772639525, -382.6280570960084, -303.0255764546557, -382.6280570960084, -256.99886772639525, -256.99886772639536, -301.90762120725947, -382.62805709600826, -382.6280570960083, -303.0255764546557, -275.2534823334682, -275.253482333468, -275.2534823334681, -407.0255764546557, -407.0255764546557, -407.0255764546557)\n",
            "10000\n",
            "ValueIteration:\n",
            "(0, 0, 0, 0, 0, 0, 0, 0, 0, 0, 3, 0, 0, 0, 0, 0, 0, 3, 0, 3, 3, 0, 0, 0, 0, 0, 0, 0, 2, 0, 0, 0, 0, 0, 2, 0, 0, 0, 0, 0, 2, 3, 3, 3, 3, 0, 2, 0, 0, 0, 0, 0, 0, 2, 0, 0, 0, 0, 3, 2, 0, 0, 0, 0, 0, 2, 3, 3, 3, 0, 0, 2, 0, 2, 2, 0, 0, 0, 2, 2, 2, 0, 3, 0, 2, 2, 2, 0, 0, 3, 3, 2, 2, 0, 0, 0, 0, 0, 0, 0, 1, 0, 0, 0, 0, 0, 1, 0, 0, 0, 0, 0, 1, 3, 3, 3, 3, 0, 1, 0, 0, 0, 0, 0, 1, 0, 0, 0, 0, 0, 1, 0, 0, 0, 0, 0, 1, 3, 3, 3, 3, 0, 1, 0, 0, 0, 0, 0, 1, 2, 0, 0, 0, 0, 1, 2, 0, 0, 0, 0, 1, 2, 3, 3, 3, 0, 1, 2, 2, 2, 2, 0, 1, 0, 2, 2, 2, 0, 1, 0, 2, 2, 2, 0, 1, 3, 2, 2, 2, 0, 1, 0, 0, 0, 0, 0, 0, 1, 0, 0, 0, 0, 3, 1, 0, 0, 0, 0, 0, 1, 3, 3, 3, 0, 0, 1, 0, 0, 0, 0, 2, 1, 0, 0, 0, 0, 2, 1, 0, 0, 0, 0, 2, 1, 3, 3, 3, 0, 2, 1, 0, 0, 0, 0, 0, 1, 0, 0, 0, 0, 3, 1, 0, 0, 0, 0, 0, 1, 3, 3, 3, 0, 0, 1, 2, 2, 2, 0, 0, 1, 2, 2, 2, 0, 3, 1, 2, 2, 2, 0, 0, 1, 2, 2, 2, 0, 0, 1, 0, 1, 1, 0, 0, 0, 1, 1, 1, 0, 3, 0, 1, 1, 1, 0, 0, 3, 3, 1, 1, 0, 0, 0, 1, 1, 1, 0, 2, 0, 1, 1, 1, 0, 2, 0, 1, 1, 1, 0, 2, 3, 1, 1, 1, 0, 2, 0, 1, 1, 1, 0, 0, 2, 1, 1, 1, 0, 3, 2, 1, 1, 1, 0, 0, 2, 1, 1, 1, 0, 0, 2, 1, 1, 1, 0, 0, 0, 1, 1, 1, 0, 3, 0, 1, 1, 1, 0, 0, 3, 1, 1, 1, 0, 0, 0, 0, 0, 0, 1, 0, 0, 0, 0, 0, 1, 0, 0, 0, 0, 0, 1, 0, 3, 3, 3, 3, 1, 0, 0, 0, 0, 0, 1, 0, 0, 0, 0, 0, 1, 0, 0, 0, 0, 0, 1, 0, 3, 3, 3, 3, 1, 0, 0, 0, 0, 0, 1, 0, 2, 0, 0, 0, 1, 0, 2, 0, 0, 0, 1, 0, 2, 3, 3, 3, 1, 0, 2, 2, 2, 2, 1, 0, 0, 2, 2, 2, 1, 0, 0, 2, 2, 2, 1, 0, 3, 2, 2, 2, 1, 0, 0, 0, 0, 0, 2, 0, 0, 0, 0, 0, 2, 0, 0, 0, 0, 0, 2, 0, 3, 3, 3, 3, 2, 0, 0, 0, 0, 0, 3, 0, 0, 0, 0, 0, 0, 0, 0, 0, 0, 0, 0, 0, 3, 3, 0, 3, 0, 0, 0, 0, 0, 0, 3, 0, 2, 0, 0, 0, 0, 0, 2, 0, 0, 0, 0, 0, 2, 3, 3, 3, 0, 0, 2, 2, 2, 2, 3, 0, 0, 2, 0, 2, 0, 0, 0, 2, 2, 2, 0, 0, 3, 2, 3, 2, 0, 0, 0, 0, 0, 0, 2, 0, 1, 0, 0, 0, 2, 0, 1, 0, 0, 0, 2, 0, 1, 3, 3, 3, 2, 0, 1, 0, 0, 0, 3, 0, 1, 0, 0, 0, 0, 0, 1, 0, 0, 0, 0, 0, 1, 3, 3, 3, 0, 0, 1, 0, 0, 0, 3, 0, 1, 0, 0, 0, 0, 0, 1, 0, 0, 0, 0, 0, 1, 3, 3, 3, 0, 0, 1, 2, 2, 2, 3, 0, 1, 2, 2, 2, 0, 0, 1, 2, 2, 2, 0, 0, 1, 2, 2, 2, 0, 0, 1, 1, 1, 1, 2, 0, 0, 1, 1, 1, 2, 0, 0, 1, 1, 1, 2, 0, 3, 1, 1, 1, 2, 0, 0, 1, 1, 1, 3, 0, 0, 1, 0, 1, 0, 0, 0, 1, 1, 1, 0, 0, 3, 1, 3, 1, 0, 0, 0, 1, 1, 1, 3, 0, 2, 1, 1, 1, 0, 0, 2, 1, 1, 1, 0, 0, 2, 1, 1, 1, 0, 0, 2, 1, 1, 1, 3, 0, 0, 1, 1, 1, 0, 0, 0, 1, 1, 1, 0, 0, 3, 1, 1, 1, 0, 0, 0, 0, 0, 0, 1, 0, 0, 0, 0, 0, 1, 3, 0, 0, 0, 0, 1, 0, 0, 3, 3, 3, 1, 0, 0, 0, 0, 0, 1, 2, 0, 0, 0, 0, 1, 2, 0, 0, 0, 0, 1, 2, 0, 3, 3, 3, 1, 2, 0, 0, 0, 0, 1, 0, 0, 0, 0, 0, 1, 3, 0, 0, 0, 0, 1, 0, 0, 3, 3, 3, 1, 0, 0, 2, 2, 2, 1, 0, 0, 2, 2, 2, 1, 3, 0, 2, 2, 2, 1, 0, 0, 2, 2, 2, 1, 0, 0, 0, 0, 0, 2, 1, 0, 0, 0, 0, 2, 1, 0, 0, 0, 0, 2, 1, 0, 3, 3, 3, 2, 1, 0, 0, 0, 0, 3, 1, 0, 0, 0, 0, 0, 1, 0, 0, 0, 0, 0, 1, 0, 3, 3, 3, 0, 1, 0, 0, 0, 0, 3, 1, 0, 0, 0, 0, 0, 1, 0, 0, 0, 0, 0, 1, 0, 3, 3, 3, 0, 1, 0, 2, 2, 2, 3, 1, 0, 2, 2, 2, 0, 1, 0, 2, 2, 2, 0, 1, 0, 2, 2, 2, 0, 1, 0, 0, 0, 0, 2, 0, 0, 0, 0, 0, 2, 3, 0, 0, 0, 0, 2, 0, 0, 3, 3, 3, 2, 0, 0, 0, 0, 0, 3, 2, 0, 0, 0, 0, 0, 2, 0, 0, 0, 0, 0, 2, 0, 3, 3, 3, 0, 2, 0, 0, 0, 0, 3, 0, 0, 0, 0, 0, 0, 3, 0, 0, 0, 0, 0, 0, 0, 3, 3, 0, 0, 0, 0, 2, 2, 2, 3, 0, 0, 2, 2, 2, 0, 3, 0, 2, 2, 0, 0, 0, 0, 2, 2, 3, 0, 0, 0, 1, 1, 1, 2, 0, 0, 1, 1, 1, 2, 3, 0, 1, 1, 1, 2, 0, 0, 1, 1, 1, 2, 0, 0, 1, 1, 1, 3, 2, 0, 1, 1, 1, 0, 2, 0, 1, 1, 1, 0, 2, 0, 1, 1, 1, 0, 2, 0, 1, 1, 1, 3, 0, 0, 1, 1, 1, 0, 3, 0, 1, 1, 0, 0, 0, 0, 1, 1, 3, 0, 0, 0, 1, 1, 1, 3, 0, 0, 1, 1, 1, 0, 3, 0, 1, 1, 1, 0, 0, 0, 1, 1, 1, 0, 0, 0, 1, 0, 0, 1, 0, 0, 0, 0, 0, 1, 3, 0, 0, 0, 0, 1, 0, 3, 0, 0, 0, 1, 0, 0, 0, 0, 0, 1, 2, 0, 0, 0, 0, 1, 2, 0, 0, 0, 0, 1, 2, 3, 0, 0, 0, 1, 2, 0, 0, 0, 0, 1, 0, 2, 0, 0, 0, 1, 3, 2, 0, 0, 0, 1, 0, 2, 0, 0, 0, 1, 0, 2, 0, 0, 0, 1, 0, 0, 0, 0, 0, 1, 3, 0, 0, 0, 0, 1, 0, 3, 0, 0, 0, 1, 0, 0, 0, 0, 0, 2, 1, 0, 0, 0, 0, 2, 1, 0, 0, 0, 0, 2, 1, 3, 0, 0, 0, 2, 1, 0, 0, 0, 0, 3, 1, 0, 0, 1, 0, 0, 1, 0, 0, 0, 0, 0, 1, 3, 0, 0, 0, 0, 1, 0, 0, 0, 0, 3, 1, 2, 0, 0, 0, 0, 1, 2, 0, 0, 0, 0, 1, 2, 0, 0, 0, 0, 1, 2, 0, 0, 0, 3, 1, 0, 0, 0, 0, 0, 1, 0, 0, 0, 0, 0, 1, 3, 0, 0, 0, 0, 1, 0, 0, 0, 0, 2, 0, 1, 0, 0, 0, 2, 3, 1, 0, 0, 0, 2, 0, 1, 0, 0, 0, 2, 0, 1, 0, 0, 0, 3, 2, 1, 0, 0, 0, 0, 2, 1, 0, 0, 0, 0, 2, 1, 0, 0, 0, 0, 2, 1, 0, 0, 0, 3, 0, 1, 0, 0, 0, 0, 3, 1, 0, 0, 1, 0, 0, 1, 0, 0, 0, 0, 0, 1, 0, 0, 0, 3, 0, 1, 0, 0, 0, 0, 3, 1, 0, 0, 0, 0, 0, 1, 0, 0, 0, 0, 0, 1, 0, 0, 0, 2, 0, 0, 0, 0, 0, 2, 3, 0, 0, 0, 0, 2, 0, 3, 0, 0, 0, 2, 0, 0, 0, 0, 0, 3, 2, 0, 0, 0, 0, 0, 2, 0, 0, 0, 0, 0, 2, 3, 0, 0, 0, 0, 2, 0, 0, 0, 0, 3, 0, 2, 0, 0, 0, 0, 3, 2, 0, 0, 0, 0, 0, 2, 0, 0, 0, 0, 0, 2, 0, 0, 0, 3, 0, 0, 0, 0, 0, 0, 3, 0, 0, 0, 0, 0, 0, 3, 0, 0, 0, 0, 0, 0)\n",
            "(-618.984407851772, -618.984407851772, -618.984407851772, -367.3844751843099, -618.984407851772, -618.984407851772, -499.6677440130729, -499.6677440130729, -499.6677440130729, -293.7724975151998, -374.4143941169466, -499.6677440130729, -499.6677440130729, -499.6677440130729, -499.6677440130729, -293.7724975151998, -499.6677440130729, -374.4143941169466, -478.4143941169466, -395.6677440130729, -395.6677440130729, -298.59019565454525, -478.4143941169466, -478.4143941169466, -497.5192775630614, -497.5192775630614, -497.5192775630614, -292.6151064487024, -369.8422492140404, -497.5192775630614, -470.0520527300661, -470.0520527300661, -470.0520527300661, -292.6151064487024, -296.59600031077923, -470.0520527300661, -409.5714301233789, -409.5714301233789, -409.5714301233789, -241.99002706994932, -296.59600031077923, -298.91473797039544, -393.5192775630614, -366.0520527300661, -305.5714301233789, -252.48236390784285, -301.297333018458, -402.91473797039544, -497.5192775630614, -497.5192775630614, -497.5192775630614, -292.6151064487024, -497.5192775630614, -369.8422492140404, -409.5714301233789, -409.5714301233789, -409.5714301233789, -241.99002706994932, -298.91473797039544, -296.59600031077923, -470.0520527300661, -470.0520527300661, -470.0520527300661, -292.6151064487024, -470.0520527300661, -296.59600031077923, -393.5192775630614, -305.5714301233789, -366.0520527300661, -252.48236390784285, -402.91473797039544, -301.297333018458, -475.8422492140404, -391.5192775630614, -391.5192775630614, -297.45564040518127, -475.8422492140404, -475.8422492140404, -393.6677440130729, -364.0520527300661, -303.5714301233789, -252.5277902424047, -303.297333018458, -402.59600031077923, -393.6677440130729, -303.5714301233789, -364.0520527300661, -252.5277902424047, -402.59600031077923, -303.297333018458, -371.8422492140404, -296.91473797039544, -296.91473797039544, -270.7880950569307, -407.297333018458, -407.297333018458, -497.5192775630614, -497.5192775630614, -497.5192775630614, -292.6151064487024, -369.8422492140404, -497.5192775630614, -470.0520527300661, -470.0520527300661, -470.0520527300661, -292.6151064487024, -296.59600031077923, -470.0520527300661, -409.5714301233789, -409.5714301233789, -409.5714301233789, -241.99002706994932, -296.59600031077923, -298.91473797039544, -393.5192775630614, -366.0520527300661, -305.5714301233789, -252.48236390784285, -301.297333018458, -402.91473797039544, -470.06375390256386, -470.06375390256386, -470.06375390256386, -293.77249751519986, -295.46985240084064, -470.06375390256386, -497.6800387899731, -497.6800387899731, -497.6800387899731, -367.38447518430985, -295.5016065700541, -497.6800387899731, -409.60039863318195, -409.60039863318195, -409.60039863318195, -293.7724975151998, -244.8557976187246, -298.9787385471465, -366.06375390256386, -393.6800387899731, -305.60039863318195, -298.59019565454525, -255.350798618846, -402.9787385471465, -408.32478992505173, -408.32478992505173, -408.32478992505173, -241.99002706994932, -295.46985240084064, -295.46985240084064, -408.336456248185, -408.336456248185, -408.336456248185, -292.6151064487024, -244.8557976187246, -295.5016065700541, -408.3364562481851, -408.3364562481851, -408.3364562481851, -292.6151064487024, -295.50160657005404, -244.8557976187246, -304.32478992505173, -304.336456248185, -304.3364562481851, -252.48236390784285, -255.350798618846, -255.350798618846, -391.5192775630614, -364.06375390256386, -302.32478992505173, -252.5277902424047, -300.2991742978521, -401.46985240084064, -364.0520527300661, -391.6800387899731, -302.336456248185, -297.45564040518127, -255.3905367970142, -401.5016065700541, -303.5714301233789, -303.60039863318195, -302.3364562481851, -252.5277902424047, -255.3905367970142, -257.350798618846, -296.91473797039544, -296.9787385471465, -245.06643914652213, -270.7880950569306, -273.6452379140735, -361.350798618846, -497.5192775630614, -497.5192775630614, -497.5192775630614, -292.6151064487024, -497.5192775630614, -369.8422492140404, -409.5714301233789, -409.5714301233789, -409.5714301233789, -241.99002706994932, -298.91473797039544, -296.59600031077923, -470.0520527300661, -470.0520527300661, -470.0520527300661, -292.6151064487024, -470.0520527300661, -296.59600031077923, -393.5192775630614, -305.5714301233789, -366.0520527300661, -252.48236390784285, -402.91473797039544, -301.297333018458, -408.32478992505173, -408.32478992505173, -408.32478992505173, -241.99002706994932, -295.46985240084064, -295.46985240084064, -408.336456248185, -408.336456248185, -408.336456248185, -292.6151064487024, -244.8557976187246, -295.5016065700541, -408.3364562481851, -408.3364562481851, -408.3364562481851, -292.6151064487024, -295.50160657005404, -244.8557976187246, -304.32478992505173, -304.336456248185, -304.3364562481851, -252.48236390784285, -255.350798618846, -255.350798618846, -470.06375390256386, -470.06375390256386, -470.06375390256386, -293.77249751519986, -470.06375390256386, -295.46985240084064, -409.60039863318195, -409.60039863318195, -409.60039863318195, -293.77249751519986, -298.97873854714646, -244.8557976187246, -497.6800387899731, -497.6800387899731, -497.6800387899731, -367.3844751843098, -497.6800387899731, -295.50160657005404, -366.06375390256386, -305.60039863318195, -393.6800387899731, -298.59019565454525, -402.97873854714646, -255.350798618846, -391.5192775630614, -302.32478992505173, -364.06375390256386, -252.5277902424047, -401.46985240084064, -300.2991742978521, -303.5714301233789, -302.336456248185, -303.60039863318195, -252.5277902424047, -257.350798618846, -255.3905367970142, -364.0520527300661, -302.3364562481851, -391.6800387899731, -297.45564040518127, -401.50160657005404, -255.3905367970142, -296.91473797039544, -245.06643914652213, -296.97873854714646, -270.7880950569307, -361.350798618846, -273.6452379140735, -475.8422492140404, -391.5192775630614, -391.5192775630614, -297.45564040518127, -475.8422492140404, -475.8422492140404, -393.6677440130729, -364.0520527300661, -303.5714301233789, -252.5277902424047, -303.297333018458, -402.59600031077923, -393.6677440130729, -303.5714301233789, -364.0520527300661, -252.5277902424047, -402.59600031077923, -303.297333018458, -371.8422492140404, -296.91473797039544, -296.91473797039544, -270.7880950569307, -407.297333018458, -407.297333018458, -391.5192775630614, -364.06375390256386, -302.32478992505173, -252.5277902424047, -300.2991742978521, -401.46985240084064, -364.0520527300661, -391.6800387899731, -302.336456248185, -297.45564040518127, -255.3905367970142, -401.5016065700541, -303.5714301233789, -303.60039863318195, -302.3364562481851, -252.5277902424047, -255.3905367970142, -257.350798618846, -296.91473797039544, -296.9787385471465, -245.06643914652213, -270.7880950569306, -273.6452379140735, -361.350798618846, -391.5192775630614, -302.32478992505173, -364.06375390256386, -252.5277902424047, -401.46985240084064, -300.2991742978521, -303.5714301233789, -302.336456248185, -303.60039863318195, -252.5277902424047, -257.350798618846, -255.3905367970142, -364.0520527300661, -302.3364562481851, -391.6800387899731, -297.45564040518127, -401.50160657005404, -255.3905367970142, -296.91473797039544, -245.06643914652213, -296.97873854714646, -270.7880950569307, -361.350798618846, -273.6452379140735, -369.8422492140404, -295.46985240084064, -295.46985240084064, -271.0198034689187, -406.2991742978521, -406.2991742978521, -296.59600031077923, -295.5016065700541, -244.8557976187246, -271.01980346891867, -275.6452379140735, -361.3905367970142, -296.59600031077923, -244.8557976187246, -295.50160657005404, -271.0198034689187, -361.3905367970142, -275.6452379140735, -301.297333018458, -255.350798618846, -255.350798618846, -295.4174472945688, -379.6452379140735, -379.6452379140735, -497.6800387899731, -497.6800387899731, -497.6800387899731, -295.5016065700541, -367.3844751843099, -497.6800387899731, -470.06375390256386, -470.06375390256386, -470.06375390256386, -295.46985240084064, -293.7724975151998, -470.06375390256386, -409.60039863318195, -409.60039863318195, -409.60039863318195, -244.85579761872467, -293.7724975151998, -298.9787385471465, -393.6800387899731, -366.06375390256386, -305.60039863318195, -255.350798618846, -298.59019565454525, -402.9787385471465, -470.0520527300661, -470.0520527300661, -470.0520527300661, -296.59600031077923, -292.6151064487024, -470.0520527300661, -497.51927756306134, -497.51927756306134, -497.51927756306134, -369.84224921404046, -292.6151064487024, -497.51927756306134, -409.5714301233789, -409.5714301233789, -409.5714301233789, -296.59600031077923, -241.99002706994932, -298.9147379703955, -366.0520527300661, -393.51927756306134, -305.5714301233789, -301.297333018458, -252.48236390784285, -402.9147379703955, -408.3364562481851, -408.3364562481851, -408.3364562481851, -244.85579761872467, -292.6151064487024, -295.5016065700541, -408.32478992505173, -408.32478992505173, -408.32478992505173, -295.46985240084064, -241.99002706994932, -295.46985240084064, -408.3364562481851, -408.3364562481851, -408.3364562481851, -295.5016065700541, -292.6151064487024, -244.85579761872467, -304.3364562481851, -304.32478992505173, -304.3364562481851, -255.350798618846, -252.48236390784285, -255.350798618846, -391.6800387899731, -364.0520527300661, -302.3364562481851, -255.3905367970142, -297.45564040518127, -401.5016065700541, -364.06375390256386, -391.51927756306134, -302.32478992505173, -300.2991742978522, -252.5277902424047, -401.46985240084064, -303.60039863318195, -303.5714301233789, -302.3364562481851, -255.3905367970142, -252.5277902424047, -257.350798618846, -296.9787385471465, -296.9147379703955, -245.06643914652213, -273.64523791407356, -270.7880950569307, -361.350798618846, -470.0520527300661, -470.0520527300661, -470.0520527300661, -296.59600031077923, -292.6151064487024, -470.0520527300661, -497.51927756306134, -497.51927756306134, -497.51927756306134, -369.84224921404046, -292.6151064487024, -497.51927756306134, -409.5714301233789, -409.5714301233789, -409.5714301233789, -296.59600031077923, -241.99002706994932, -298.9147379703955, -366.0520527300661, -393.51927756306134, -305.5714301233789, -301.297333018458, -252.48236390784285, -402.9147379703955, -499.6677440130729, -499.6677440130729, -499.6677440130729, -374.41439411694665, -293.77249751519986, -499.6677440130729, -618.9844078517718, -618.9844078517718, -618.9844078517718, -618.9844078517718, -367.38447518430985, -618.9844078517718, -499.6677440130729, -499.6677440130729, -499.6677440130729, -499.6677440130729, -293.7724975151998, -374.41439411694665, -395.6677440130729, -478.41439411694665, -395.6677440130729, -478.41439411694665, -298.59019565454525, -478.41439411694665, -409.5714301233789, -409.5714301233789, -409.5714301233789, -298.91473797039544, -241.99002706994932, -296.59600031077923, -497.5192775630614, -497.5192775630614, -497.5192775630614, -497.5192775630614, -292.6151064487024, -369.84224921404046, -470.05205273006607, -470.05205273006607, -470.05205273006607, -470.05205273006607, -292.6151064487024, -296.59600031077923, -305.5714301233789, -393.5192775630614, -366.05205273006607, -402.91473797039544, -252.48236390784285, -301.297333018458, -364.0520527300661, -393.6677440130729, -303.5714301233789, -303.297333018458, -252.5277902424047, -402.59600031077923, -391.51927756306134, -475.84224921404046, -391.5192775630614, -475.84224921404046, -297.45564040518127, -475.84224921404046, -303.5714301233789, -393.6677440130729, -364.05205273006607, -402.59600031077923, -252.5277902424047, -303.297333018458, -296.9147379703955, -371.84224921404046, -296.91473797039544, -407.297333018458, -270.7880950569306, -407.297333018458, -408.3364562481851, -408.3364562481851, -408.3364562481851, -244.85579761872467, -292.6151064487024, -295.5016065700541, -408.32478992505173, -408.32478992505173, -408.32478992505173, -295.46985240084064, -241.99002706994932, -295.46985240084064, -408.3364562481851, -408.3364562481851, -408.3364562481851, -295.5016065700541, -292.6151064487024, -244.85579761872467, -304.3364562481851, -304.32478992505173, -304.3364562481851, -255.350798618846, -252.48236390784285, -255.350798618846, -409.5714301233789, -409.5714301233789, -409.5714301233789, -298.91473797039544, -241.99002706994932, -296.59600031077923, -497.5192775630614, -497.5192775630614, -497.5192775630614, -497.5192775630614, -292.6151064487024, -369.84224921404046, -470.05205273006607, -470.05205273006607, -470.05205273006607, -470.05205273006607, -292.6151064487024, -296.59600031077923, -305.5714301233789, -393.5192775630614, -366.05205273006607, -402.91473797039544, -252.48236390784285, -301.297333018458, -409.60039863318195, -409.60039863318195, -409.60039863318195, -298.97873854714646, -293.77249751519986, -244.85579761872467, -470.06375390256386, -470.06375390256386, -470.06375390256386, -470.06375390256386, -293.77249751519986, -295.46985240084064, -497.680038789973, -497.680038789973, -497.680038789973, -497.680038789973, -367.3844751843098, -295.5016065700541, -305.60039863318195, -366.06375390256386, -393.680038789973, -402.97873854714646, -298.59019565454525, -255.350798618846, -302.3364562481851, -303.5714301233789, -303.60039863318195, -257.350798618846, -252.5277902424047, -255.3905367970142, -302.32478992505173, -391.5192775630614, -364.06375390256386, -401.46985240084064, -252.5277902424047, -300.2991742978522, -302.3364562481851, -364.05205273006607, -391.680038789973, -401.5016065700541, -297.45564040518127, -255.3905367970142, -245.06643914652213, -296.91473797039544, -296.97873854714646, -361.350798618846, -270.7880950569307, -273.64523791407356, -391.6800387899731, -364.0520527300661, -302.3364562481851, -255.3905367970142, -297.45564040518127, -401.5016065700541, -364.06375390256386, -391.51927756306134, -302.32478992505173, -300.2991742978522, -252.5277902424047, -401.46985240084064, -303.60039863318195, -303.5714301233789, -302.3364562481851, -255.3905367970142, -252.5277902424047, -257.350798618846, -296.9787385471465, -296.9147379703955, -245.06643914652213, -273.64523791407356, -270.7880950569307, -361.350798618846, -364.0520527300661, -393.6677440130729, -303.5714301233789, -303.297333018458, -252.5277902424047, -402.59600031077923, -391.51927756306134, -475.84224921404046, -391.5192775630614, -475.84224921404046, -297.45564040518127, -475.84224921404046, -303.5714301233789, -393.6677440130729, -364.05205273006607, -402.59600031077923, -252.5277902424047, -303.297333018458, -296.9147379703955, -371.84224921404046, -296.91473797039544, -407.297333018458, -270.7880950569306, -407.297333018458, -302.3364562481851, -303.5714301233789, -303.60039863318195, -257.350798618846, -252.5277902424047, -255.3905367970142, -302.32478992505173, -391.5192775630614, -364.06375390256386, -401.46985240084064, -252.5277902424047, -300.2991742978522, -302.3364562481851, -364.05205273006607, -391.680038789973, -401.5016065700541, -297.45564040518127, -255.3905367970142, -245.06643914652213, -296.91473797039544, -296.97873854714646, -361.350798618846, -270.7880950569307, -273.64523791407356, -295.5016065700541, -296.59600031077923, -244.85579761872467, -275.64523791407356, -271.0198034689187, -361.3905367970142, -295.46985240084064, -369.84224921404046, -295.46985240084064, -406.2991742978522, -271.01980346891867, -406.2991742978522, -244.85579761872467, -296.59600031077923, -295.5016065700541, -361.3905367970142, -271.0198034689187, -275.64523791407356, -255.350798618846, -301.297333018458, -255.350798618846, -379.64523791407356, -295.4174472945688, -379.64523791407356, -497.6800387899731, -497.6800387899731, -497.6800387899731, -295.50160657005404, -497.6800387899731, -367.3844751843099, -409.60039863318195, -409.60039863318195, -409.60039863318195, -244.85579761872467, -298.97873854714646, -293.7724975151998, -470.06375390256386, -470.06375390256386, -470.06375390256386, -295.46985240084064, -470.06375390256386, -293.7724975151998, -393.6800387899731, -305.60039863318195, -366.06375390256386, -255.350798618846, -402.97873854714646, -298.59019565454525, -408.3364562481851, -408.3364562481851, -408.3364562481851, -244.85579761872467, -295.50160657005404, -292.6151064487024, -408.3364562481851, -408.3364562481851, -408.3364562481851, -295.50160657005404, -244.85579761872467, -292.6151064487024, -408.32478992505173, -408.32478992505173, -408.32478992505173, -295.4698524008407, -295.46985240084064, -241.99002706994932, -304.3364562481851, -304.3364562481851, -304.32478992505173, -255.350798618846, -255.350798618846, -252.48236390784285, -470.05205273006607, -470.05205273006607, -470.05205273006607, -296.59600031077923, -470.05205273006607, -292.6151064487024, -409.5714301233789, -409.5714301233789, -409.5714301233789, -296.59600031077923, -298.9147379703955, -241.99002706994932, -497.5192775630614, -497.5192775630614, -497.5192775630614, -369.8422492140405, -497.5192775630614, -292.6151064487024, -366.05205273006607, -305.5714301233789, -393.5192775630614, -301.29733301845806, -402.9147379703955, -252.48236390784285, -391.6800387899731, -302.3364562481851, -364.05205273006607, -255.39053679701425, -401.50160657005404, -297.45564040518127, -303.60039863318195, -302.3364562481851, -303.5714301233789, -255.3905367970142, -257.350798618846, -252.5277902424047, -364.06375390256386, -302.32478992505173, -391.5192775630614, -300.2991742978522, -401.46985240084064, -252.5277902424047, -296.97873854714646, -245.06643914652213, -296.9147379703955, -273.64523791407356, -361.350798618846, -270.7880950569307, -408.3364562481851, -408.3364562481851, -408.3364562481851, -244.85579761872467, -295.50160657005404, -292.6151064487024, -408.3364562481851, -408.3364562481851, -408.3364562481851, -295.50160657005404, -244.85579761872467, -292.6151064487024, -408.32478992505173, -408.32478992505173, -408.32478992505173, -295.4698524008407, -295.46985240084064, -241.99002706994932, -304.3364562481851, -304.3364562481851, -304.32478992505173, -255.350798618846, -255.350798618846, -252.48236390784285, -409.60039863318195, -409.60039863318195, -409.60039863318195, -298.9787385471465, -244.85579761872467, -293.77249751519986, -497.6800387899731, -497.6800387899731, -497.6800387899731, -497.6800387899731, -295.50160657005404, -367.38447518430985, -470.06375390256386, -470.06375390256386, -470.06375390256386, -470.06375390256386, -295.4698524008407, -293.7724975151998, -305.60039863318195, -393.6800387899731, -366.06375390256386, -402.9787385471465, -255.350798618846, -298.59019565454525, -409.5714301233789, -409.5714301233789, -409.5714301233789, -298.9147379703955, -296.59600031077923, -241.99002706994932, -470.05205273006607, -470.05205273006607, -470.05205273006607, -470.05205273006607, -296.59600031077923, -292.6151064487024, -497.5192775630614, -497.5192775630614, -497.5192775630614, -497.5192775630614, -369.8422492140405, -292.6151064487024, -305.5714301233789, -366.05205273006607, -393.5192775630614, -402.9147379703955, -301.29733301845806, -252.48236390784285, -302.3364562481851, -303.60039863318195, -303.5714301233789, -257.350798618846, -255.39053679701425, -252.5277902424047, -302.3364562481851, -391.6800387899731, -364.05205273006607, -401.50160657005404, -255.3905367970142, -297.45564040518127, -302.32478992505173, -364.06375390256386, -391.5192775630614, -401.4698524008407, -300.2991742978522, -252.5277902424047, -245.06643914652213, -296.9787385471465, -296.9147379703955, -361.350798618846, -273.64523791407356, -270.7880950569306, -470.05205273006607, -470.05205273006607, -470.05205273006607, -296.59600031077923, -470.05205273006607, -292.6151064487024, -409.5714301233789, -409.5714301233789, -409.5714301233789, -296.59600031077923, -298.9147379703955, -241.99002706994932, -497.5192775630614, -497.5192775630614, -497.5192775630614, -369.8422492140405, -497.5192775630614, -292.6151064487024, -366.05205273006607, -305.5714301233789, -393.5192775630614, -301.29733301845806, -402.9147379703955, -252.48236390784285, -409.5714301233789, -409.5714301233789, -409.5714301233789, -298.9147379703955, -296.59600031077923, -241.99002706994932, -470.05205273006607, -470.05205273006607, -470.05205273006607, -470.05205273006607, -296.59600031077923, -292.6151064487024, -497.5192775630614, -497.5192775630614, -497.5192775630614, -497.5192775630614, -369.8422492140405, -292.6151064487024, -305.5714301233789, -366.05205273006607, -393.5192775630614, -402.9147379703955, -301.29733301845806, -252.48236390784285, -499.6677440130729, -499.6677440130729, -499.6677440130729, -374.4143941169466, -499.6677440130729, -293.77249751519986, -499.6677440130729, -499.6677440130729, -499.6677440130729, -499.6677440130729, -374.4143941169466, -293.77249751519986, -618.9844078517718, -618.9844078517718, -618.9844078517718, -618.9844078517718, -618.9844078517718, -367.3844751843098, -395.6677440130729, -395.6677440130729, -478.4143941169466, -478.4143941169466, -478.4143941169466, -298.59019565454525, -364.05205273006607, -303.5714301233789, -393.6677440130729, -303.29733301845806, -402.59600031077923, -252.5277902424047, -303.5714301233789, -364.05205273006607, -393.6677440130729, -402.59600031077923, -303.29733301845806, -252.5277902424047, -391.5192775630614, -391.5192775630614, -475.8422492140405, -475.8422492140405, -475.8422492140405, -297.45564040518127, -296.9147379703955, -296.9147379703955, -371.8422492140405, -407.29733301845806, -407.29733301845806, -270.7880950569307, -391.6800387899731, -302.3364562481851, -364.05205273006607, -255.39053679701425, -401.50160657005404, -297.45564040518127, -303.60039863318195, -302.3364562481851, -303.5714301233789, -255.3905367970142, -257.350798618846, -252.5277902424047, -364.06375390256386, -302.32478992505173, -391.5192775630614, -300.2991742978522, -401.46985240084064, -252.5277902424047, -296.97873854714646, -245.06643914652213, -296.9147379703955, -273.64523791407356, -361.350798618846, -270.7880950569307, -302.3364562481851, -303.60039863318195, -303.5714301233789, -257.350798618846, -255.39053679701425, -252.5277902424047, -302.3364562481851, -391.6800387899731, -364.05205273006607, -401.50160657005404, -255.3905367970142, -297.45564040518127, -302.32478992505173, -364.06375390256386, -391.5192775630614, -401.4698524008407, -300.2991742978522, -252.5277902424047, -245.06643914652213, -296.9787385471465, -296.9147379703955, -361.350798618846, -273.64523791407356, -270.7880950569306, -364.05205273006607, -303.5714301233789, -393.6677440130729, -303.29733301845806, -402.59600031077923, -252.5277902424047, -303.5714301233789, -364.05205273006607, -393.6677440130729, -402.59600031077923, -303.29733301845806, -252.5277902424047, -391.5192775630614, -391.5192775630614, -475.8422492140405, -475.8422492140405, -475.8422492140405, -297.45564040518127, -296.9147379703955, -296.9147379703955, -371.8422492140405, -407.29733301845806, -407.29733301845806, -270.7880950569307, -295.50160657005404, -244.85579761872467, -296.59600031077923, -275.64523791407356, -361.39053679701425, -271.0198034689187, -244.85579761872467, -295.50160657005404, -296.59600031077923, -361.3905367970142, -275.64523791407356, -271.01980346891867, -295.46985240084064, -295.4698524008407, -369.8422492140405, -406.2991742978522, -406.2991742978522, -271.0198034689187, -255.350798618846, -255.350798618846, -301.29733301845806, -379.64523791407356, -379.64523791407356, -295.4174472945688, -475.3844751843099, -389.6800387899731, -389.6800387899731, -299.45564040518127, -475.3844751843099, -475.3844751843099, -391.6677440130729, -362.06375390256386, -301.60039863318195, -254.5277902424047, -302.59019565454525, -401.7724975151998, -391.6677440130729, -301.60039863318195, -362.06375390256386, -254.5277902424047, -401.7724975151998, -302.59019565454525, -370.4143941169466, -294.9787385471465, -294.97873854714646, -272.7880950569307, -406.59019565454525, -406.59019565454525, -389.5192775630614, -362.0520527300661, -300.3364562481851, -254.5277902424047, -299.45564040518127, -400.6151064487024, -362.0520527300661, -389.51927756306134, -300.3364562481851, -299.45564040518127, -254.5277902424047, -400.6151064487024, -301.5714301233789, -301.5714301233789, -300.32478992505173, -254.5277902424047, -254.5277902424047, -256.48236390784285, -294.91473797039544, -294.9147379703955, -243.06643914652213, -272.7880950569306, -272.7880950569307, -360.48236390784285, -389.5192775630614, -300.3364562481851, -362.05205273006607, -254.5277902424047, -400.6151064487024, -299.45564040518127, -301.5714301233789, -300.32478992505173, -301.5714301233789, -254.5277902424047, -256.48236390784285, -254.5277902424047, -362.0520527300661, -300.3364562481851, -389.5192775630614, -299.45564040518127, -400.6151064487024, -254.5277902424047, -294.91473797039544, -243.06643914652213, -294.9147379703955, -272.7880950569307, -360.48236390784285, -272.7880950569307, -367.8422492140404, -293.5016065700541, -293.50160657005404, -273.0198034689187, -405.45564040518127, -405.45564040518127, -294.59600031077923, -293.46985240084064, -242.85579761872467, -273.01980346891867, -274.7880950569307, -360.5277902424047, -294.59600031077923, -242.85579761872467, -293.46985240084064, -273.0198034689187, -360.5277902424047, -274.7880950569307, -299.297333018458, -253.350798618846, -253.350798618846, -297.4174472945688, -378.7880950569307, -378.7880950569307, -389.5192775630614, -362.0520527300661, -300.3364562481851, -254.5277902424047, -299.45564040518127, -400.6151064487024, -362.0520527300661, -389.51927756306134, -300.3364562481851, -299.45564040518127, -254.5277902424047, -400.6151064487024, -301.5714301233789, -301.5714301233789, -300.32478992505173, -254.5277902424047, -254.5277902424047, -256.48236390784285, -294.91473797039544, -294.9147379703955, -243.06643914652213, -272.7880950569306, -272.7880950569307, -360.48236390784285, -362.06375390256386, -391.6677440130729, -301.60039863318195, -302.59019565454525, -254.5277902424047, -401.77249751519986, -389.6800387899731, -475.38447518430985, -389.6800387899731, -475.38447518430985, -299.45564040518127, -475.38447518430985, -301.60039863318195, -391.6677440130729, -362.06375390256386, -401.7724975151998, -254.5277902424047, -302.59019565454525, -294.9787385471465, -370.41439411694665, -294.9787385471465, -406.59019565454525, -272.7880950569306, -406.59019565454525, -300.32478992505173, -301.5714301233789, -301.5714301233789, -256.48236390784285, -254.5277902424047, -254.5277902424047, -300.336456248185, -389.5192775630614, -362.05205273006607, -400.6151064487024, -254.5277902424047, -299.45564040518127, -300.3364562481851, -362.05205273006607, -389.5192775630614, -400.6151064487024, -299.45564040518127, -254.5277902424047, -243.06643914652213, -294.91473797039544, -294.9147379703955, -360.48236390784285, -272.7880950569307, -272.7880950569306, -293.46985240084064, -294.59600031077923, -242.85579761872467, -274.7880950569306, -273.0198034689187, -360.5277902424047, -293.5016065700541, -367.84224921404046, -293.50160657005404, -405.45564040518127, -273.01980346891867, -405.45564040518127, -242.8557976187246, -294.59600031077923, -293.4698524008407, -360.5277902424047, -273.0198034689187, -274.7880950569306, -253.350798618846, -299.297333018458, -253.350798618846, -378.7880950569306, -297.4174472945688, -378.7880950569306, -389.5192775630614, -300.3364562481851, -362.05205273006607, -254.5277902424047, -400.6151064487024, -299.45564040518127, -301.5714301233789, -300.32478992505173, -301.5714301233789, -254.5277902424047, -256.48236390784285, -254.5277902424047, -362.0520527300661, -300.3364562481851, -389.5192775630614, -299.45564040518127, -400.6151064487024, -254.5277902424047, -294.91473797039544, -243.06643914652213, -294.9147379703955, -272.7880950569307, -360.48236390784285, -272.7880950569307, -300.32478992505173, -301.5714301233789, -301.5714301233789, -256.48236390784285, -254.5277902424047, -254.5277902424047, -300.336456248185, -389.5192775630614, -362.05205273006607, -400.6151064487024, -254.5277902424047, -299.45564040518127, -300.3364562481851, -362.05205273006607, -389.5192775630614, -400.6151064487024, -299.45564040518127, -254.5277902424047, -243.06643914652213, -294.91473797039544, -294.9147379703955, -360.48236390784285, -272.7880950569307, -272.7880950569306, -362.06375390256386, -301.60039863318195, -391.6677440130729, -302.59019565454525, -401.77249751519986, -254.5277902424047, -301.60039863318195, -362.06375390256386, -391.6677440130729, -401.77249751519986, -302.59019565454525, -254.5277902424047, -389.6800387899731, -389.680038789973, -475.3844751843098, -475.3844751843098, -475.3844751843098, -299.45564040518127, -294.97873854714646, -294.97873854714646, -370.4143941169466, -406.59019565454525, -406.59019565454525, -272.7880950569307, -293.46985240084064, -242.85579761872467, -294.59600031077923, -274.7880950569307, -360.5277902424047, -273.0198034689187, -242.8557976187246, -293.46985240084064, -294.59600031077923, -360.5277902424047, -274.7880950569307, -273.01980346891867, -293.50160657005404, -293.5016065700541, -367.8422492140405, -405.45564040518127, -405.45564040518127, -273.0198034689187, -253.350798618846, -253.350798618846, -299.29733301845806, -378.7880950569307, -378.7880950569307, -297.4174472945688, -367.8422492140404, -293.5016065700541, -293.50160657005404, -273.0198034689187, -405.45564040518127, -405.45564040518127, -294.59600031077923, -293.46985240084064, -242.85579761872467, -273.01980346891867, -274.7880950569307, -360.5277902424047, -294.59600031077923, -242.85579761872467, -293.46985240084064, -273.0198034689187, -360.5277902424047, -274.7880950569307, -299.297333018458, -253.350798618846, -253.350798618846, -297.4174472945688, -378.7880950569307, -378.7880950569307, -293.46985240084064, -294.59600031077923, -242.85579761872467, -274.7880950569306, -273.0198034689187, -360.5277902424047, -293.5016065700541, -367.84224921404046, -293.50160657005404, -405.45564040518127, -273.01980346891867, -405.45564040518127, -242.8557976187246, -294.59600031077923, -293.4698524008407, -360.5277902424047, -273.0198034689187, -274.7880950569306, -253.350798618846, -299.297333018458, -253.350798618846, -378.7880950569306, -297.4174472945688, -378.7880950569306, -293.46985240084064, -242.85579761872467, -294.59600031077923, -274.7880950569307, -360.5277902424047, -273.0198034689187, -242.8557976187246, -293.46985240084064, -294.59600031077923, -360.5277902424047, -274.7880950569307, -273.01980346891867, -293.50160657005404, -293.5016065700541, -367.8422492140405, -405.45564040518127, -405.45564040518127, -273.0198034689187, -253.350798618846, -253.350798618846, -299.29733301845806, -378.7880950569307, -378.7880950569307, -297.4174472945688, -298.2991742978521, -253.3905367970142, -253.39053679701425, -299.4174472945688, -379.0198034689187, -379.0198034689187, -253.3905367970142, -298.2991742978522, -253.3905367970142, -379.01980346891867, -299.4174472945688, -379.01980346891867, -253.3905367970142, -253.3905367970142, -298.2991742978522, -379.0198034689187, -379.0198034689187, -299.4174472945688, -271.6452379140735, -271.64523791407356, -271.64523791407356, -403.4174472945688, -403.4174472945688, -403.4174472945688)\n",
            "44\n"
          ],
          "name": "stdout"
        }
      ]
    },
    {
      "cell_type": "code",
      "metadata": {
        "id": "Kkm8DkYNnJ-h",
        "colab_type": "code",
        "colab": {}
      },
      "source": [
        "#Test given test data\n",
        "\n",
        "orderListStr = [x for x in uploaded[\"SAKI Exercise 3 warehouseorder2x2.txt\"].decode(\"utf-8\").split(\"\\n\") if x!= \"\"]\n",
        "orderList = [x[0] + x.split(\"\\t\")[1][0] for x in orderListStr]"
      ],
      "execution_count": 0,
      "outputs": []
    },
    {
      "cell_type": "code",
      "metadata": {
        "id": "k7ZW-xAZf3if",
        "colab_type": "code",
        "outputId": "990fb929-abe6-4a3d-c162-575b000daa7e",
        "colab": {
          "base_uri": "https://localhost:8080/",
          "height": 68
        }
      },
      "source": [
        "print(\"mdpValue Policy: \",testWarehouse(orderList, mdpresultValue.policy))\n",
        "print(\"mdpPolicy Policy: \",testWarehouse(orderList, mdpresultPolicy.policy))\n",
        "print(\"Greedy Policy: \",testWarehouse(orderList, createGreedyPolicy()))"
      ],
      "execution_count": 0,
      "outputs": [
        {
          "output_type": "stream",
          "text": [
            "mdpValue Policy:  114\n",
            "mdpPolicy Policy:  114\n",
            "Greedy Policy:  114\n"
          ],
          "name": "stdout"
        }
      ]
    },
    {
      "cell_type": "code",
      "metadata": {
        "id": "xJ_Jn79TgTu7",
        "colab_type": "code",
        "colab": {}
      },
      "source": [
        ""
      ],
      "execution_count": 0,
      "outputs": []
    }
  ]
}